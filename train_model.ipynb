{
 "cells": [
  {
   "cell_type": "code",
   "execution_count": 1,
   "metadata": {},
   "outputs": [],
   "source": [
    "import pandas as pd\n",
    "import pickle\n",
    "from sklearn.model_selection import train_test_split\n",
    "from sklearn.svm import NuSVC\n",
    "from sklearn.svm import SVC\n",
    "from sklearn.svm import LinearSVC"
   ]
  },
  {
   "cell_type": "code",
   "execution_count": 2,
   "metadata": {},
   "outputs": [],
   "source": [
    "df = pd.read_csv('Data_Post-processing\\\\df_combo_middle.csv')"
   ]
  },
  {
   "cell_type": "code",
   "execution_count": 3,
   "metadata": {},
   "outputs": [
    {
     "data": {
      "text/html": [
       "<div>\n",
       "<style scoped>\n",
       "    .dataframe tbody tr th:only-of-type {\n",
       "        vertical-align: middle;\n",
       "    }\n",
       "\n",
       "    .dataframe tbody tr th {\n",
       "        vertical-align: top;\n",
       "    }\n",
       "\n",
       "    .dataframe thead th {\n",
       "        text-align: right;\n",
       "    }\n",
       "</style>\n",
       "<table border=\"1\" class=\"dataframe\">\n",
       "  <thead>\n",
       "    <tr style=\"text-align: right;\">\n",
       "      <th></th>\n",
       "      <th>Unnamed: 0</th>\n",
       "      <th>URL</th>\n",
       "      <th>Length</th>\n",
       "      <th>Hyperlinks</th>\n",
       "      <th>Phish</th>\n",
       "      <th>Url_Dots</th>\n",
       "      <th>Sus_Url</th>\n",
       "    </tr>\n",
       "  </thead>\n",
       "  <tbody>\n",
       "    <tr>\n",
       "      <th>0</th>\n",
       "      <td>0</td>\n",
       "      <td>poom.co.kr</td>\n",
       "      <td>10</td>\n",
       "      <td>25.0</td>\n",
       "      <td>False</td>\n",
       "      <td>2</td>\n",
       "      <td>0</td>\n",
       "    </tr>\n",
       "    <tr>\n",
       "      <th>1</th>\n",
       "      <td>1</td>\n",
       "      <td>victoriarnilan.no</td>\n",
       "      <td>17</td>\n",
       "      <td>8.0</td>\n",
       "      <td>False</td>\n",
       "      <td>1</td>\n",
       "      <td>0</td>\n",
       "    </tr>\n",
       "    <tr>\n",
       "      <th>2</th>\n",
       "      <td>2</td>\n",
       "      <td>paqtomog.com</td>\n",
       "      <td>12</td>\n",
       "      <td>23.0</td>\n",
       "      <td>False</td>\n",
       "      <td>1</td>\n",
       "      <td>0</td>\n",
       "    </tr>\n",
       "    <tr>\n",
       "      <th>3</th>\n",
       "      <td>3</td>\n",
       "      <td>publications-agora.fr</td>\n",
       "      <td>21</td>\n",
       "      <td>23.0</td>\n",
       "      <td>False</td>\n",
       "      <td>1</td>\n",
       "      <td>0</td>\n",
       "    </tr>\n",
       "    <tr>\n",
       "      <th>4</th>\n",
       "      <td>4</td>\n",
       "      <td>funkemedien.de</td>\n",
       "      <td>14</td>\n",
       "      <td>25.0</td>\n",
       "      <td>False</td>\n",
       "      <td>1</td>\n",
       "      <td>0</td>\n",
       "    </tr>\n",
       "  </tbody>\n",
       "</table>\n",
       "</div>"
      ],
      "text/plain": [
       "   Unnamed: 0                    URL  Length  Hyperlinks  Phish  Url_Dots  \\\n",
       "0           0             poom.co.kr      10        25.0  False         2   \n",
       "1           1      victoriarnilan.no      17         8.0  False         1   \n",
       "2           2           paqtomog.com      12        23.0  False         1   \n",
       "3           3  publications-agora.fr      21        23.0  False         1   \n",
       "4           4         funkemedien.de      14        25.0  False         1   \n",
       "\n",
       "   Sus_Url  \n",
       "0        0  \n",
       "1        0  \n",
       "2        0  \n",
       "3        0  \n",
       "4        0  "
      ]
     },
     "execution_count": 3,
     "metadata": {},
     "output_type": "execute_result"
    }
   ],
   "source": [
    "df.head()"
   ]
  },
  {
   "cell_type": "code",
   "execution_count": 4,
   "metadata": {},
   "outputs": [
    {
     "data": {
      "text/html": [
       "<div>\n",
       "<style scoped>\n",
       "    .dataframe tbody tr th:only-of-type {\n",
       "        vertical-align: middle;\n",
       "    }\n",
       "\n",
       "    .dataframe tbody tr th {\n",
       "        vertical-align: top;\n",
       "    }\n",
       "\n",
       "    .dataframe thead th {\n",
       "        text-align: right;\n",
       "    }\n",
       "</style>\n",
       "<table border=\"1\" class=\"dataframe\">\n",
       "  <thead>\n",
       "    <tr style=\"text-align: right;\">\n",
       "      <th></th>\n",
       "      <th>URL</th>\n",
       "      <th>Length</th>\n",
       "      <th>Hyperlinks</th>\n",
       "      <th>Phish</th>\n",
       "      <th>Url_Dots</th>\n",
       "      <th>Sus_Url</th>\n",
       "    </tr>\n",
       "  </thead>\n",
       "  <tbody>\n",
       "    <tr>\n",
       "      <th>0</th>\n",
       "      <td>poom.co.kr</td>\n",
       "      <td>10</td>\n",
       "      <td>25.0</td>\n",
       "      <td>False</td>\n",
       "      <td>2</td>\n",
       "      <td>0</td>\n",
       "    </tr>\n",
       "    <tr>\n",
       "      <th>1</th>\n",
       "      <td>victoriarnilan.no</td>\n",
       "      <td>17</td>\n",
       "      <td>8.0</td>\n",
       "      <td>False</td>\n",
       "      <td>1</td>\n",
       "      <td>0</td>\n",
       "    </tr>\n",
       "    <tr>\n",
       "      <th>2</th>\n",
       "      <td>paqtomog.com</td>\n",
       "      <td>12</td>\n",
       "      <td>23.0</td>\n",
       "      <td>False</td>\n",
       "      <td>1</td>\n",
       "      <td>0</td>\n",
       "    </tr>\n",
       "    <tr>\n",
       "      <th>3</th>\n",
       "      <td>publications-agora.fr</td>\n",
       "      <td>21</td>\n",
       "      <td>23.0</td>\n",
       "      <td>False</td>\n",
       "      <td>1</td>\n",
       "      <td>0</td>\n",
       "    </tr>\n",
       "    <tr>\n",
       "      <th>4</th>\n",
       "      <td>funkemedien.de</td>\n",
       "      <td>14</td>\n",
       "      <td>25.0</td>\n",
       "      <td>False</td>\n",
       "      <td>1</td>\n",
       "      <td>0</td>\n",
       "    </tr>\n",
       "  </tbody>\n",
       "</table>\n",
       "</div>"
      ],
      "text/plain": [
       "                     URL  Length  Hyperlinks  Phish  Url_Dots  Sus_Url\n",
       "0             poom.co.kr      10        25.0  False         2        0\n",
       "1      victoriarnilan.no      17         8.0  False         1        0\n",
       "2           paqtomog.com      12        23.0  False         1        0\n",
       "3  publications-agora.fr      21        23.0  False         1        0\n",
       "4         funkemedien.de      14        25.0  False         1        0"
      ]
     },
     "execution_count": 4,
     "metadata": {},
     "output_type": "execute_result"
    }
   ],
   "source": [
    "df.drop('Unnamed: 0',axis=1,inplace=True)\n",
    "df.head()"
   ]
  },
  {
   "attachments": {},
   "cell_type": "markdown",
   "metadata": {},
   "source": [
    "# Feature Creation"
   ]
  },
  {
   "cell_type": "code",
   "execution_count": 5,
   "metadata": {},
   "outputs": [
    {
     "data": {
      "text/html": [
       "<div>\n",
       "<style scoped>\n",
       "    .dataframe tbody tr th:only-of-type {\n",
       "        vertical-align: middle;\n",
       "    }\n",
       "\n",
       "    .dataframe tbody tr th {\n",
       "        vertical-align: top;\n",
       "    }\n",
       "\n",
       "    .dataframe thead th {\n",
       "        text-align: right;\n",
       "    }\n",
       "</style>\n",
       "<table border=\"1\" class=\"dataframe\">\n",
       "  <thead>\n",
       "    <tr style=\"text-align: right;\">\n",
       "      <th></th>\n",
       "      <th>URL</th>\n",
       "      <th>Length</th>\n",
       "      <th>Hyperlinks</th>\n",
       "      <th>Phish</th>\n",
       "      <th>Url_Dots</th>\n",
       "      <th>Sus_Url</th>\n",
       "      <th>No_Hyperlink</th>\n",
       "    </tr>\n",
       "  </thead>\n",
       "  <tbody>\n",
       "    <tr>\n",
       "      <th>0</th>\n",
       "      <td>poom.co.kr</td>\n",
       "      <td>10</td>\n",
       "      <td>25.0</td>\n",
       "      <td>False</td>\n",
       "      <td>2</td>\n",
       "      <td>0</td>\n",
       "      <td>False</td>\n",
       "    </tr>\n",
       "    <tr>\n",
       "      <th>1</th>\n",
       "      <td>victoriarnilan.no</td>\n",
       "      <td>17</td>\n",
       "      <td>8.0</td>\n",
       "      <td>False</td>\n",
       "      <td>1</td>\n",
       "      <td>0</td>\n",
       "      <td>False</td>\n",
       "    </tr>\n",
       "    <tr>\n",
       "      <th>2</th>\n",
       "      <td>paqtomog.com</td>\n",
       "      <td>12</td>\n",
       "      <td>23.0</td>\n",
       "      <td>False</td>\n",
       "      <td>1</td>\n",
       "      <td>0</td>\n",
       "      <td>False</td>\n",
       "    </tr>\n",
       "    <tr>\n",
       "      <th>3</th>\n",
       "      <td>publications-agora.fr</td>\n",
       "      <td>21</td>\n",
       "      <td>23.0</td>\n",
       "      <td>False</td>\n",
       "      <td>1</td>\n",
       "      <td>0</td>\n",
       "      <td>False</td>\n",
       "    </tr>\n",
       "    <tr>\n",
       "      <th>4</th>\n",
       "      <td>funkemedien.de</td>\n",
       "      <td>14</td>\n",
       "      <td>25.0</td>\n",
       "      <td>False</td>\n",
       "      <td>1</td>\n",
       "      <td>0</td>\n",
       "      <td>False</td>\n",
       "    </tr>\n",
       "  </tbody>\n",
       "</table>\n",
       "</div>"
      ],
      "text/plain": [
       "                     URL  Length  Hyperlinks  Phish  Url_Dots  Sus_Url  \\\n",
       "0             poom.co.kr      10        25.0  False         2        0   \n",
       "1      victoriarnilan.no      17         8.0  False         1        0   \n",
       "2           paqtomog.com      12        23.0  False         1        0   \n",
       "3  publications-agora.fr      21        23.0  False         1        0   \n",
       "4         funkemedien.de      14        25.0  False         1        0   \n",
       "\n",
       "   No_Hyperlink  \n",
       "0         False  \n",
       "1         False  \n",
       "2         False  \n",
       "3         False  \n",
       "4         False  "
      ]
     },
     "execution_count": 5,
     "metadata": {},
     "output_type": "execute_result"
    }
   ],
   "source": [
    "df['No_Hyperlink'] = (df['Hyperlinks'] == 0)\n",
    "df.head()"
   ]
  },
  {
   "cell_type": "code",
   "execution_count": 6,
   "metadata": {},
   "outputs": [],
   "source": [
    "y = df.Phish\n",
    "features = ['Length','Hyperlinks','Url_Dots','Sus_Url','No_Hyperlink']\n",
    "#features = ['Length','Hyperlinks','Url_Dots','Sus_Url','No_Hyperlink']\n",
    "X = df[features]\n",
    "#train_X, val_X, train_y, val_y = train_test_split(X,y, random_state=1)"
   ]
  },
  {
   "cell_type": "code",
   "execution_count": 11,
   "metadata": {},
   "outputs": [
    {
     "data": {
      "text/plain": [
       "URL             0\n",
       "Length          0\n",
       "Hyperlinks      0\n",
       "Phish           0\n",
       "Url_Dots        0\n",
       "Sus_Url         0\n",
       "No_Hyperlink    0\n",
       "dtype: int64"
      ]
     },
     "execution_count": 11,
     "metadata": {},
     "output_type": "execute_result"
    }
   ],
   "source": [
    "df.isnull().sum()"
   ]
  },
  {
   "cell_type": "code",
   "execution_count": 12,
   "metadata": {},
   "outputs": [
    {
     "data": {
      "text/html": [
       "<style>#sk-container-id-1 {color: black;background-color: white;}#sk-container-id-1 pre{padding: 0;}#sk-container-id-1 div.sk-toggleable {background-color: white;}#sk-container-id-1 label.sk-toggleable__label {cursor: pointer;display: block;width: 100%;margin-bottom: 0;padding: 0.3em;box-sizing: border-box;text-align: center;}#sk-container-id-1 label.sk-toggleable__label-arrow:before {content: \"▸\";float: left;margin-right: 0.25em;color: #696969;}#sk-container-id-1 label.sk-toggleable__label-arrow:hover:before {color: black;}#sk-container-id-1 div.sk-estimator:hover label.sk-toggleable__label-arrow:before {color: black;}#sk-container-id-1 div.sk-toggleable__content {max-height: 0;max-width: 0;overflow: hidden;text-align: left;background-color: #f0f8ff;}#sk-container-id-1 div.sk-toggleable__content pre {margin: 0.2em;color: black;border-radius: 0.25em;background-color: #f0f8ff;}#sk-container-id-1 input.sk-toggleable__control:checked~div.sk-toggleable__content {max-height: 200px;max-width: 100%;overflow: auto;}#sk-container-id-1 input.sk-toggleable__control:checked~label.sk-toggleable__label-arrow:before {content: \"▾\";}#sk-container-id-1 div.sk-estimator input.sk-toggleable__control:checked~label.sk-toggleable__label {background-color: #d4ebff;}#sk-container-id-1 div.sk-label input.sk-toggleable__control:checked~label.sk-toggleable__label {background-color: #d4ebff;}#sk-container-id-1 input.sk-hidden--visually {border: 0;clip: rect(1px 1px 1px 1px);clip: rect(1px, 1px, 1px, 1px);height: 1px;margin: -1px;overflow: hidden;padding: 0;position: absolute;width: 1px;}#sk-container-id-1 div.sk-estimator {font-family: monospace;background-color: #f0f8ff;border: 1px dotted black;border-radius: 0.25em;box-sizing: border-box;margin-bottom: 0.5em;}#sk-container-id-1 div.sk-estimator:hover {background-color: #d4ebff;}#sk-container-id-1 div.sk-parallel-item::after {content: \"\";width: 100%;border-bottom: 1px solid gray;flex-grow: 1;}#sk-container-id-1 div.sk-label:hover label.sk-toggleable__label {background-color: #d4ebff;}#sk-container-id-1 div.sk-serial::before {content: \"\";position: absolute;border-left: 1px solid gray;box-sizing: border-box;top: 0;bottom: 0;left: 50%;z-index: 0;}#sk-container-id-1 div.sk-serial {display: flex;flex-direction: column;align-items: center;background-color: white;padding-right: 0.2em;padding-left: 0.2em;position: relative;}#sk-container-id-1 div.sk-item {position: relative;z-index: 1;}#sk-container-id-1 div.sk-parallel {display: flex;align-items: stretch;justify-content: center;background-color: white;position: relative;}#sk-container-id-1 div.sk-item::before, #sk-container-id-1 div.sk-parallel-item::before {content: \"\";position: absolute;border-left: 1px solid gray;box-sizing: border-box;top: 0;bottom: 0;left: 50%;z-index: -1;}#sk-container-id-1 div.sk-parallel-item {display: flex;flex-direction: column;z-index: 1;position: relative;background-color: white;}#sk-container-id-1 div.sk-parallel-item:first-child::after {align-self: flex-end;width: 50%;}#sk-container-id-1 div.sk-parallel-item:last-child::after {align-self: flex-start;width: 50%;}#sk-container-id-1 div.sk-parallel-item:only-child::after {width: 0;}#sk-container-id-1 div.sk-dashed-wrapped {border: 1px dashed gray;margin: 0 0.4em 0.5em 0.4em;box-sizing: border-box;padding-bottom: 0.4em;background-color: white;}#sk-container-id-1 div.sk-label label {font-family: monospace;font-weight: bold;display: inline-block;line-height: 1.2em;}#sk-container-id-1 div.sk-label-container {text-align: center;}#sk-container-id-1 div.sk-container {/* jupyter's `normalize.less` sets `[hidden] { display: none; }` but bootstrap.min.css set `[hidden] { display: none !important; }` so we also need the `!important` here to be able to override the default hidden behavior on the sphinx rendered scikit-learn.org. See: https://github.com/scikit-learn/scikit-learn/issues/21755 */display: inline-block !important;position: relative;}#sk-container-id-1 div.sk-text-repr-fallback {display: none;}</style><div id=\"sk-container-id-1\" class=\"sk-top-container\"><div class=\"sk-text-repr-fallback\"><pre>NuSVC(kernel=&#x27;linear&#x27;, shrinking=False)</pre><b>In a Jupyter environment, please rerun this cell to show the HTML representation or trust the notebook. <br />On GitHub, the HTML representation is unable to render, please try loading this page with nbviewer.org.</b></div><div class=\"sk-container\" hidden><div class=\"sk-item\"><div class=\"sk-estimator sk-toggleable\"><input class=\"sk-toggleable__control sk-hidden--visually\" id=\"sk-estimator-id-1\" type=\"checkbox\" checked><label for=\"sk-estimator-id-1\" class=\"sk-toggleable__label sk-toggleable__label-arrow\">NuSVC</label><div class=\"sk-toggleable__content\"><pre>NuSVC(kernel=&#x27;linear&#x27;, shrinking=False)</pre></div></div></div></div></div>"
      ],
      "text/plain": [
       "NuSVC(kernel='linear', shrinking=False)"
      ]
     },
     "execution_count": 12,
     "metadata": {},
     "output_type": "execute_result"
    }
   ],
   "source": [
    "train_X, val_X, train_y, val_y = train_test_split(X,y, random_state=1)\n",
    "model = NuSVC(kernel = 'linear',gamma = 'scale', shrinking = False)\n",
    "fit_model = model\n",
    "fit_model.fit(train_X, train_y)"
   ]
  },
  {
   "cell_type": "code",
   "execution_count": 13,
   "metadata": {},
   "outputs": [],
   "source": [
    "val_predictions = fit_model.predict(val_X)"
   ]
  },
  {
   "cell_type": "code",
   "execution_count": 12,
   "metadata": {},
   "outputs": [],
   "source": [
    "from sklearn.metrics import balanced_accuracy_score"
   ]
  },
  {
   "cell_type": "code",
   "execution_count": 9,
   "metadata": {},
   "outputs": [],
   "source": [
    "def get_accuracy(thisX, thisy, model):\n",
    "    train_X, val_X, train_y, val_y = train_test_split(thisX,thisy, random_state=1)\n",
    "    print(\"Training Model...\")\n",
    "    model.fit(train_X, train_y)\n",
    "    print(\"Making Predictions...\")\n",
    "    val_predictions = model.predict(val_X)\n",
    "    print(\"Calculating Accuracy...\")\n",
    "    print(balanced_accuracy_score(val_y, val_predictions))"
   ]
  },
  {
   "cell_type": "code",
   "execution_count": 21,
   "metadata": {},
   "outputs": [
    {
     "name": "stdout",
     "output_type": "stream",
     "text": [
      "Training Model...\n",
      "Making Predictions...\n",
      "Calculating report\n",
      "              precision    recall  f1-score   support\n",
      "\n",
      "       False       0.87      0.64      0.74      1661\n",
      "        True       0.59      0.84      0.69      1004\n",
      "\n",
      "    accuracy                           0.72      2665\n",
      "   macro avg       0.73      0.74      0.71      2665\n",
      "weighted avg       0.76      0.72      0.72      2665\n",
      "\n"
     ]
    }
   ],
   "source": [
    "from sklearn.metrics import classification_report\n",
    "def get_report(X, y, model):\n",
    "    train_X, val_X, train_y, val_y = train_test_split(X,y, random_state=1)\n",
    "    print(\"Training Model...\")\n",
    "    model.fit(train_X, train_y)\n",
    "    print(\"Making Predictions...\")\n",
    "    val_predictions = model.predict(val_X)\n",
    "    print(\"Calculating report\")\n",
    "    val_mae = classification_report(val_y, val_predictions)\n",
    "    print(val_mae)\n",
    "get_report(X,y,model)"
   ]
  },
  {
   "cell_type": "code",
   "execution_count": 16,
   "metadata": {},
   "outputs": [
    {
     "name": "stdout",
     "output_type": "stream",
     "text": [
      "Training Model...\n",
      "Making Predictions...\n",
      "Calculating Accuracy...\n",
      "0.7685474237906891\n"
     ]
    }
   ],
   "source": [
    "get_accuracy(X,y,model)"
   ]
  },
  {
   "cell_type": "code",
   "execution_count": 24,
   "metadata": {},
   "outputs": [],
   "source": [
    "from sklearn.metrics import ConfusionMatrixDisplay\n",
    "import matplotlib\n",
    "def get_matrix(X, y, model):\n",
    "    train_X, val_X, train_y, val_y = train_test_split(X,y, random_state=1)\n",
    "    print(\"Training Model...\")\n",
    "    model.fit(train_X, train_y)\n",
    "    print(\"Making Predictions...\")\n",
    "    val_predictions = model.predict(val_X)\n",
    "    print(\"Calculating matrix...\")\n",
    "    val_mae = ConfusionMatrixDisplay.from_predictions(val_y, val_predictions)\n",
    "    print(val_mae)"
   ]
  },
  {
   "cell_type": "code",
   "execution_count": 25,
   "metadata": {},
   "outputs": [
    {
     "name": "stdout",
     "output_type": "stream",
     "text": [
      "Training Model...\n",
      "Making Predictions...\n",
      "Calculating matrix...\n"
     ]
    },
    {
     "ename": "TypeError",
     "evalue": "ConfusionMatrixDisplay.from_predictions() got an unexpected keyword argument 'classes'",
     "output_type": "error",
     "traceback": [
      "\u001b[1;31m---------------------------------------------------------------------------\u001b[0m",
      "\u001b[1;31mTypeError\u001b[0m                                 Traceback (most recent call last)",
      "Cell \u001b[1;32mIn[25], line 1\u001b[0m\n\u001b[1;32m----> 1\u001b[0m get_matrix(X,y,model)\n",
      "Cell \u001b[1;32mIn[24], line 11\u001b[0m, in \u001b[0;36mget_matrix\u001b[1;34m(X, y, model)\u001b[0m\n\u001b[0;32m      9\u001b[0m val_predictions \u001b[39m=\u001b[39m model\u001b[39m.\u001b[39mpredict(val_X)\n\u001b[0;32m     10\u001b[0m \u001b[39mprint\u001b[39m(\u001b[39m\"\u001b[39m\u001b[39mCalculating matrix...\u001b[39m\u001b[39m\"\u001b[39m)\n\u001b[1;32m---> 11\u001b[0m val_mae \u001b[39m=\u001b[39m ConfusionMatrixDisplay\u001b[39m.\u001b[39;49mfrom_predictions(val_y, val_predictions,classes\u001b[39m=\u001b[39;49mclasses)\n\u001b[0;32m     12\u001b[0m \u001b[39mprint\u001b[39m(val_mae)\n",
      "\u001b[1;31mTypeError\u001b[0m: ConfusionMatrixDisplay.from_predictions() got an unexpected keyword argument 'classes'"
     ]
    }
   ],
   "source": [
    "get_matrix(X,y,model)"
   ]
  },
  {
   "attachments": {},
   "cell_type": "markdown",
   "metadata": {},
   "source": [
    "God Damn!! Over 95% accurate. Time to celebrate"
   ]
  },
  {
   "cell_type": "code",
   "execution_count": 26,
   "metadata": {},
   "outputs": [
    {
     "name": "stdout",
     "output_type": "stream",
     "text": [
      "Training Model...\n",
      "Making Predictions...\n",
      "Calculating matrix...\n"
     ]
    },
    {
     "data": {
      "image/png": "[encoded data removed]",
      "text/plain": [
       "<Figure size 800x550 with 2 Axes>"
      ]
     },
     "metadata": {},
     "output_type": "display_data"
    }
   ],
   "source": [
    "from yellowbrick.classifier import ClassificationReport\n",
    "def get_matrix_adv(X, y, model):\n",
    "    \n",
    "    classes = [\"safe\",\"phish\"]\n",
    "    visualizer = ClassificationReport(\n",
    "        model, classes=classes, support=True)\n",
    "    train_X, val_X, train_y, val_y = train_test_split(X,y, random_state=1)\n",
    "    print(\"Training Model...\")\n",
    "    visualizer.fit(train_X, train_y)\n",
    "    print(\"Making Predictions...\")\n",
    "    visualizer.score(val_X,val_y)\n",
    "    print(\"Calculating matrix...\")\n",
    "    visualizer.show()\n",
    "    \n",
    "get_matrix_adv(X,y,model)"
   ]
  },
  {
   "cell_type": "code",
   "execution_count": 51,
   "metadata": {},
   "outputs": [],
   "source": [
    "pickle.dump(fit_model, open(\"model_16_02.pkl\",\"wb\"))"
   ]
  },
  {
   "cell_type": "code",
   "execution_count": 7,
   "metadata": {},
   "outputs": [
    {
     "name": "stdout",
     "output_type": "stream",
     "text": [
      "['Length', 'Hyperlinks', 'Url_Dots']\n"
     ]
    }
   ],
   "source": [
    "features = ['Length','Hyperlinks','Url_Dots']\n",
    "#features_2.remove('digits')\n",
    "#features_2.remove('digit_ratio')\n",
    "print(features)"
   ]
  },
  {
   "cell_type": "code",
   "execution_count": 13,
   "metadata": {},
   "outputs": [
    {
     "name": "stdout",
     "output_type": "stream",
     "text": [
      "Training Model...\n",
      "Making Predictions...\n",
      "Calculating Accuracy...\n",
      "0.7394147072156887\n"
     ]
    }
   ],
   "source": [
    "X = df[features]\n",
    "model = NuSVC(kernel = 'linear',gamma = 'scale', shrinking = False)\n",
    "get_accuracy(X,y,model)"
   ]
  },
  {
   "cell_type": "code",
   "execution_count": 14,
   "metadata": {},
   "outputs": [],
   "source": [
    "from sklearn.metrics import precision_score\n",
    "def get_precision(X, y, model):\n",
    "    train_X, val_X, train_y, val_y = train_test_split(X,y, random_state=1)\n",
    "    print(\"Training Model...\")\n",
    "    model.fit(train_X, train_y)\n",
    "    print(\"Making Predictions...\")\n",
    "    val_predictions = model.predict(val_X)\n",
    "    print(\"Calculating precision...\")\n",
    "    val_mae = precision_score(val_y, val_predictions)\n",
    "    print(val_mae)"
   ]
  },
  {
   "cell_type": "code",
   "execution_count": 15,
   "metadata": {},
   "outputs": [
    {
     "name": "stdout",
     "output_type": "stream",
     "text": [
      "Training Model...\n",
      "Making Predictions...\n",
      "Calculating precision...\n",
      "0.5852470424495476\n"
     ]
    }
   ],
   "source": [
    "get_precision(X,y,model)"
   ]
  },
  {
   "cell_type": "code",
   "execution_count": 20,
   "metadata": {},
   "outputs": [
    {
     "name": "stdout",
     "output_type": "stream",
     "text": [
      "Training Model...\n",
      "Making Predictions...\n",
      "Calculating precision...\n",
      "0.5852470424495476\n"
     ]
    }
   ],
   "source": [
    "features = ['Length','Hyperlinks','Url_Dots']\n",
    "X = df[features]\n",
    "get_precision(X,y,model)"
   ]
  },
  {
   "cell_type": "code",
   "execution_count": 17,
   "metadata": {},
   "outputs": [
    {
     "data": {
      "text/plain": [
       "(10659, 7)"
      ]
     },
     "execution_count": 17,
     "metadata": {},
     "output_type": "execute_result"
    }
   ],
   "source": [
    "df.shape"
   ]
  },
  {
   "cell_type": "code",
   "execution_count": null,
   "metadata": {},
   "outputs": [],
   "source": []
  }
 ],
 "metadata": {
  "kernelspec": {
   "display_name": "Python 3",
   "language": "python",
   "name": "python3"
  },
  "language_info": {
   "codemirror_mode": {
    "name": "ipython",
    "version": 3
   },
   "file_extension": ".py",
   "mimetype": "text/x-python",
   "name": "python",
   "nbconvert_exporter": "python",
   "pygments_lexer": "ipython3",
   "version": "3.10.6"
  },
  "orig_nbformat": 4,
  "vscode": {
   "interpreter": {
    "hash": "43afbf7b8c92a6397086dae0be21e5b6ecbdfbb1f0b6983c22cfbb740a73e7f5"
   }
  }
 },
 "nbformat": 4,
 "nbformat_minor": 2
}
