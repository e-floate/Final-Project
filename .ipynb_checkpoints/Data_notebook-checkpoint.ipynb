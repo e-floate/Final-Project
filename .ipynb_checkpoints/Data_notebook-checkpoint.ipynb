{
 "cells": [
  {
   "cell_type": "code",
   "execution_count": 1,
   "id": "74d8cfce",
   "metadata": {},
   "outputs": [],
   "source": [
    "import pandas as pd\n",
    "import pickle\n",
    "from sklearn.model_selection import train_test_split\n",
    "from sklearn.svm import NuSVC"
   ]
  },
  {
   "cell_type": "code",
   "execution_count": 2,
   "id": "4e668aac",
   "metadata": {
    "scrolled": false
   },
   "outputs": [
    {
     "data": {
      "text/html": [
       "<div>\n",
       "<style scoped>\n",
       "    .dataframe tbody tr th:only-of-type {\n",
       "        vertical-align: middle;\n",
       "    }\n",
       "\n",
       "    .dataframe tbody tr th {\n",
       "        vertical-align: top;\n",
       "    }\n",
       "\n",
       "    .dataframe thead th {\n",
       "        text-align: right;\n",
       "    }\n",
       "</style>\n",
       "<table border=\"1\" class=\"dataframe\">\n",
       "  <thead>\n",
       "    <tr style=\"text-align: right;\">\n",
       "      <th></th>\n",
       "      <th>qty_dot_url</th>\n",
       "      <th>qty_hyphen_url</th>\n",
       "      <th>qty_underline_url</th>\n",
       "      <th>qty_slash_url</th>\n",
       "      <th>qty_questionmark_url</th>\n",
       "      <th>qty_equal_url</th>\n",
       "      <th>qty_at_url</th>\n",
       "      <th>qty_and_url</th>\n",
       "      <th>qty_exclamation_url</th>\n",
       "      <th>qty_space_url</th>\n",
       "      <th>...</th>\n",
       "      <th>qty_ip_resolved</th>\n",
       "      <th>qty_nameservers</th>\n",
       "      <th>qty_mx_servers</th>\n",
       "      <th>ttl_hostname</th>\n",
       "      <th>tls_ssl_certificate</th>\n",
       "      <th>qty_redirects</th>\n",
       "      <th>url_google_index</th>\n",
       "      <th>domain_google_index</th>\n",
       "      <th>url_shortened</th>\n",
       "      <th>phishing</th>\n",
       "    </tr>\n",
       "  </thead>\n",
       "  <tbody>\n",
       "    <tr>\n",
       "      <th>0</th>\n",
       "      <td>2</td>\n",
       "      <td>0</td>\n",
       "      <td>0</td>\n",
       "      <td>0</td>\n",
       "      <td>0</td>\n",
       "      <td>0</td>\n",
       "      <td>0</td>\n",
       "      <td>0</td>\n",
       "      <td>0</td>\n",
       "      <td>0</td>\n",
       "      <td>...</td>\n",
       "      <td>1</td>\n",
       "      <td>4</td>\n",
       "      <td>2</td>\n",
       "      <td>3598</td>\n",
       "      <td>0</td>\n",
       "      <td>0</td>\n",
       "      <td>0</td>\n",
       "      <td>0</td>\n",
       "      <td>0</td>\n",
       "      <td>0</td>\n",
       "    </tr>\n",
       "    <tr>\n",
       "      <th>1</th>\n",
       "      <td>4</td>\n",
       "      <td>0</td>\n",
       "      <td>0</td>\n",
       "      <td>2</td>\n",
       "      <td>0</td>\n",
       "      <td>0</td>\n",
       "      <td>0</td>\n",
       "      <td>0</td>\n",
       "      <td>0</td>\n",
       "      <td>0</td>\n",
       "      <td>...</td>\n",
       "      <td>1</td>\n",
       "      <td>4</td>\n",
       "      <td>1</td>\n",
       "      <td>3977</td>\n",
       "      <td>1</td>\n",
       "      <td>0</td>\n",
       "      <td>0</td>\n",
       "      <td>0</td>\n",
       "      <td>0</td>\n",
       "      <td>0</td>\n",
       "    </tr>\n",
       "    <tr>\n",
       "      <th>2</th>\n",
       "      <td>1</td>\n",
       "      <td>0</td>\n",
       "      <td>0</td>\n",
       "      <td>1</td>\n",
       "      <td>0</td>\n",
       "      <td>0</td>\n",
       "      <td>0</td>\n",
       "      <td>0</td>\n",
       "      <td>0</td>\n",
       "      <td>0</td>\n",
       "      <td>...</td>\n",
       "      <td>1</td>\n",
       "      <td>2</td>\n",
       "      <td>1</td>\n",
       "      <td>10788</td>\n",
       "      <td>0</td>\n",
       "      <td>0</td>\n",
       "      <td>0</td>\n",
       "      <td>0</td>\n",
       "      <td>0</td>\n",
       "      <td>0</td>\n",
       "    </tr>\n",
       "    <tr>\n",
       "      <th>3</th>\n",
       "      <td>2</td>\n",
       "      <td>0</td>\n",
       "      <td>0</td>\n",
       "      <td>3</td>\n",
       "      <td>0</td>\n",
       "      <td>0</td>\n",
       "      <td>0</td>\n",
       "      <td>0</td>\n",
       "      <td>0</td>\n",
       "      <td>0</td>\n",
       "      <td>...</td>\n",
       "      <td>1</td>\n",
       "      <td>2</td>\n",
       "      <td>1</td>\n",
       "      <td>14339</td>\n",
       "      <td>1</td>\n",
       "      <td>0</td>\n",
       "      <td>0</td>\n",
       "      <td>0</td>\n",
       "      <td>0</td>\n",
       "      <td>1</td>\n",
       "    </tr>\n",
       "    <tr>\n",
       "      <th>4</th>\n",
       "      <td>1</td>\n",
       "      <td>1</td>\n",
       "      <td>0</td>\n",
       "      <td>4</td>\n",
       "      <td>0</td>\n",
       "      <td>0</td>\n",
       "      <td>0</td>\n",
       "      <td>0</td>\n",
       "      <td>0</td>\n",
       "      <td>0</td>\n",
       "      <td>...</td>\n",
       "      <td>1</td>\n",
       "      <td>2</td>\n",
       "      <td>1</td>\n",
       "      <td>389</td>\n",
       "      <td>1</td>\n",
       "      <td>1</td>\n",
       "      <td>0</td>\n",
       "      <td>0</td>\n",
       "      <td>0</td>\n",
       "      <td>1</td>\n",
       "    </tr>\n",
       "  </tbody>\n",
       "</table>\n",
       "<p>5 rows × 112 columns</p>\n",
       "</div>"
      ],
      "text/plain": [
       "   qty_dot_url  qty_hyphen_url  qty_underline_url  qty_slash_url  \\\n",
       "0            2               0                  0              0   \n",
       "1            4               0                  0              2   \n",
       "2            1               0                  0              1   \n",
       "3            2               0                  0              3   \n",
       "4            1               1                  0              4   \n",
       "\n",
       "   qty_questionmark_url  qty_equal_url  qty_at_url  qty_and_url  \\\n",
       "0                     0              0           0            0   \n",
       "1                     0              0           0            0   \n",
       "2                     0              0           0            0   \n",
       "3                     0              0           0            0   \n",
       "4                     0              0           0            0   \n",
       "\n",
       "   qty_exclamation_url  qty_space_url  ...  qty_ip_resolved  qty_nameservers  \\\n",
       "0                    0              0  ...                1                4   \n",
       "1                    0              0  ...                1                4   \n",
       "2                    0              0  ...                1                2   \n",
       "3                    0              0  ...                1                2   \n",
       "4                    0              0  ...                1                2   \n",
       "\n",
       "   qty_mx_servers  ttl_hostname  tls_ssl_certificate  qty_redirects  \\\n",
       "0               2          3598                    0              0   \n",
       "1               1          3977                    1              0   \n",
       "2               1         10788                    0              0   \n",
       "3               1         14339                    1              0   \n",
       "4               1           389                    1              1   \n",
       "\n",
       "   url_google_index  domain_google_index  url_shortened  phishing  \n",
       "0                 0                    0              0         0  \n",
       "1                 0                    0              0         0  \n",
       "2                 0                    0              0         0  \n",
       "3                 0                    0              0         1  \n",
       "4                 0                    0              0         1  \n",
       "\n",
       "[5 rows x 112 columns]"
      ]
     },
     "execution_count": 2,
     "metadata": {},
     "output_type": "execute_result"
    }
   ],
   "source": [
    "raw_data = pd.read_csv(\"Phishing_dataset_03.csv\")\n",
    "raw_data.head()"
   ]
  },
  {
   "cell_type": "code",
   "execution_count": 3,
   "id": "f21e761a",
   "metadata": {},
   "outputs": [
    {
     "name": "stdout",
     "output_type": "stream",
     "text": [
      "58645\n"
     ]
    }
   ],
   "source": [
    "print(len(raw_data.index))"
   ]
  },
  {
   "cell_type": "markdown",
   "id": "4f179a57",
   "metadata": {},
   "source": [
    "### List all column names"
   ]
  },
  {
   "cell_type": "code",
   "execution_count": 4,
   "id": "4a62eaf4",
   "metadata": {
    "scrolled": true
   },
   "outputs": [
    {
     "name": "stdout",
     "output_type": "stream",
     "text": [
      "qty_dot_url\n",
      "qty_hyphen_url\n",
      "qty_underline_url\n",
      "qty_slash_url\n",
      "qty_questionmark_url\n",
      "qty_equal_url\n",
      "qty_at_url\n",
      "qty_and_url\n",
      "qty_exclamation_url\n",
      "qty_space_url\n",
      "qty_tilde_url\n",
      "qty_comma_url\n",
      "qty_plus_url\n",
      "qty_asterisk_url\n",
      "qty_hashtag_url\n",
      "qty_dollar_url\n",
      "qty_percent_url\n",
      "qty_tld_url\n",
      "length_url\n",
      "qty_dot_domain\n",
      "qty_hyphen_domain\n",
      "qty_underline_domain\n",
      "qty_slash_domain\n",
      "qty_questionmark_domain\n",
      "qty_equal_domain\n",
      "qty_at_domain\n",
      "qty_and_domain\n",
      "qty_exclamation_domain\n",
      "qty_space_domain\n",
      "qty_tilde_domain\n",
      "qty_comma_domain\n",
      "qty_plus_domain\n",
      "qty_asterisk_domain\n",
      "qty_hashtag_domain\n",
      "qty_dollar_domain\n",
      "qty_percent_domain\n",
      "qty_vowels_domain\n",
      "domain_length\n",
      "domain_in_ip\n",
      "server_client_domain\n",
      "qty_dot_directory\n",
      "qty_hyphen_directory\n",
      "qty_underline_directory\n",
      "qty_slash_directory\n",
      "qty_questionmark_directory\n",
      "qty_equal_directory\n",
      "qty_at_directory\n",
      "qty_and_directory\n",
      "qty_exclamation_directory\n",
      "qty_space_directory\n",
      "qty_tilde_directory\n",
      "qty_comma_directory\n",
      "qty_plus_directory\n",
      "qty_asterisk_directory\n",
      "qty_hashtag_directory\n",
      "qty_dollar_directory\n",
      "qty_percent_directory\n",
      "directory_length\n",
      "qty_dot_file\n",
      "qty_hyphen_file\n",
      "qty_underline_file\n",
      "qty_slash_file\n",
      "qty_questionmark_file\n",
      "qty_equal_file\n",
      "qty_at_file\n",
      "qty_and_file\n",
      "qty_exclamation_file\n",
      "qty_space_file\n",
      "qty_tilde_file\n",
      "qty_comma_file\n",
      "qty_plus_file\n",
      "qty_asterisk_file\n",
      "qty_hashtag_file\n",
      "qty_dollar_file\n",
      "qty_percent_file\n",
      "file_length\n",
      "qty_dot_params\n",
      "qty_hyphen_params\n",
      "qty_underline_params\n",
      "qty_slash_params\n",
      "qty_questionmark_params\n",
      "qty_equal_params\n",
      "qty_at_params\n",
      "qty_and_params\n",
      "qty_exclamation_params\n",
      "qty_space_params\n",
      "qty_tilde_params\n",
      "qty_comma_params\n",
      "qty_plus_params\n",
      "qty_asterisk_params\n",
      "qty_hashtag_params\n",
      "qty_dollar_params\n",
      "qty_percent_params\n",
      "params_length\n",
      "tld_present_params\n",
      "qty_params\n",
      "email_in_url\n",
      "time_response\n",
      "domain_spf\n",
      "asn_ip\n",
      "time_domain_activation\n",
      "time_domain_expiration\n",
      "qty_ip_resolved\n",
      "qty_nameservers\n",
      "qty_mx_servers\n",
      "ttl_hostname\n",
      "tls_ssl_certificate\n",
      "qty_redirects\n",
      "url_google_index\n",
      "domain_google_index\n",
      "url_shortened\n",
      "phishing\n"
     ]
    }
   ],
   "source": [
    "for column in raw_data.columns:\n",
    "    print(column)"
   ]
  },
  {
   "cell_type": "markdown",
   "id": "7a2889e7",
   "metadata": {},
   "source": [
    "# Clean Data"
   ]
  },
  {
   "cell_type": "code",
   "execution_count": 5,
   "id": "b0756a76",
   "metadata": {},
   "outputs": [
    {
     "name": "stdout",
     "output_type": "stream",
     "text": [
      "58645\n"
     ]
    }
   ],
   "source": [
    "clean_data = raw_data.dropna()\n",
    "print(len(clean_data.index))"
   ]
  },
  {
   "cell_type": "markdown",
   "id": "4feeca06",
   "metadata": {},
   "source": [
    "Note how the number of rows has not changed, this is certainly one complete dataset, whoop!"
   ]
  },
  {
   "cell_type": "code",
   "execution_count": 6,
   "id": "5285d347",
   "metadata": {},
   "outputs": [],
   "source": [
    "y = clean_data.phishing\n",
    "feature_columns = [\"qty_dot_url\",\"qty_hyphen_url\",\"qty_questionmark_url\",\"qty_and_url\",\"length_url\",\n",
    "                   \"domain_length\",\"qty_dot_directory\",\"directory_length\",\"file_length\",\"qty_params\",\"url_shortened\"]\n",
    "X = clean_data[feature_columns]\n",
    "train_X, val_X, train_y, val_y = train_test_split(X,y, random_state=1)"
   ]
  },
  {
   "cell_type": "code",
   "execution_count": null,
   "id": "7057df7e",
   "metadata": {},
   "outputs": [],
   "source": [
    "model = NuSVC(kernel = 'linear',gamma = 'scale', shrinking = False)\n",
    "model.fit(train_X, train_y)"
   ]
  },
  {
   "cell_type": "code",
   "execution_count": null,
   "id": "870cd90d",
   "metadata": {},
   "outputs": [],
   "source": [
    "val_predictions = model.predict(val_X)\n",
    "print(val_predictions)\n",
    "print(val_y.head())"
   ]
  },
  {
   "cell_type": "code",
   "execution_count": null,
   "id": "b0930ffd",
   "metadata": {},
   "outputs": [],
   "source": [
    "from sklearn.metrics import mean_absolute_error"
   ]
  },
  {
   "cell_type": "code",
   "execution_count": null,
   "id": "fbb38adb",
   "metadata": {},
   "outputs": [],
   "source": [
    "val_mae = mean_absolute_error(val_predictions, val_y)\n",
    "print(val_mae)"
   ]
  },
  {
   "cell_type": "markdown",
   "id": "97596b2c",
   "metadata": {},
   "source": [
    "I think the MAE in this context represents the percentage chance the model will be wrong, as the target is a boolean. Let's try reducing the amount of features, and see how this affects the MAE"
   ]
  },
  {
   "cell_type": "code",
   "execution_count": null,
   "id": "3fe9af32",
   "metadata": {},
   "outputs": [],
   "source": [
    "feature_columns = [\"qty_dot_url\",\"length_url\",\n",
    "                   \"domain_length\",\"qty_dot_directory\",\"directory_length\",\"file_length\",\"qty_params\",\"url_shortened\"]\n",
    "X = clean_data[feature_columns]\n",
    "train_X, val_X, train_y, val_y = train_test_split(X,y, random_state=1)\n",
    "model.fit(train_X, train_y)\n",
    "val_predictions = model.predict(val_X)\n",
    "val_mae = mean_absolute_error(val_predictions, val_y)\n",
    "print(val_mae)"
   ]
  },
  {
   "cell_type": "code",
   "execution_count": null,
   "id": "6f8a189a",
   "metadata": {},
   "outputs": [],
   "source": [
    "def get_mae(X, y, model):\n",
    "    train_X, val_X, train_y, val_y = train_test_split(X,y, random_state=1)\n",
    "    model.fit(train_X, train_y)\n",
    "    val_predictions = model.predict(val_X)\n",
    "    val_mae = mean_absolute_error(val_predictions, val_y)\n",
    "    print(val_mae)"
   ]
  },
  {
   "cell_type": "markdown",
   "id": "91b256cd",
   "metadata": {},
   "source": [
    "Hmm, it seemed to have no effect? Lets try calculating the MAE when all columns are used as feature columns? I also created a function to calculate the MAE."
   ]
  },
  {
   "cell_type": "code",
   "execution_count": null,
   "id": "9e80ae35",
   "metadata": {},
   "outputs": [],
   "source": [
    "feature_for_columns = []\n",
    "for column in clean_data.columns:\n",
    "    feature_for_columns.append(column)\n",
    "X=clean_data[feature_for_columns]\n",
    "model = NuSVC(kernel = 'linear',gamma = 'scale', shrinking = False)\n",
    "#get_mae(X,y,model)"
   ]
  },
  {
   "cell_type": "code",
   "execution_count": null,
   "id": "5d53f338",
   "metadata": {},
   "outputs": [],
   "source": [
    "feature_columns = [\"qty_dot_url\",\"qty_hyphen_url\",\"qty_equal_url\",\"qty_questionmark_url\",\"qty_and_url\",\"length_url\",\n",
    "                   \"domain_length\",\"qty_dot_directory\",\"qty_hyphen_directory\",\"qty_comma_directory\",\"qty_slash_directory\",\"qty_at_directory\",\n",
    "                   \"qty_and_directory\",\"directory_length\",\"qty_dot_file\",\"qty_hyphen_file\",\"qty_underline_file\",\"qty_slash_file\",\n",
    "                   \"qty_questionmark_file\",\"qty_equal_file\",\"file_length\",\"qty_dot_params\"\n",
    "                    ,\"qty_hyphen_params\",\"qty_underline_params\",\"qty_slash_params\",\"qty_params\",\"url_shortened\"\n",
    "                   ,\"qty_underline_url\",\"qty_slash_url\",\"email_in_url\",\"time_response\",\"domain_spf\",\"tls_ssl_certificate\"\n",
    "                   ,\"qty_redirects\"]\n",
    "for feature in feature_columns:\n",
    "    X=clean_data[feature_columns]\n",
    "    model = NuSVC(kernel = 'linear',gamma = 'scale', shrinking = False)\n",
    "    get_mae(X,y,model)\n",
    "    feature_columns.pop()\n",
    "\n"
   ]
  },
  {
   "cell_type": "code",
   "execution_count": null,
   "id": "1c728423",
   "metadata": {},
   "outputs": [],
   "source": [
    "#pickle.dump(model, open(\"url_model.pkl\",\"wb\"))"
   ]
  },
  {
   "cell_type": "code",
   "execution_count": null,
   "id": "c6aebe63",
   "metadata": {},
   "outputs": [],
   "source": []
  }
 ],
 "metadata": {
  "kernelspec": {
   "display_name": "Python 3 (ipykernel)",
   "language": "python",
   "name": "python3"
  },
  "language_info": {
   "codemirror_mode": {
    "name": "ipython",
    "version": 3
   },
   "file_extension": ".py",
   "mimetype": "text/x-python",
   "name": "python",
   "nbconvert_exporter": "python",
   "pygments_lexer": "ipython3",
   "version": "3.7.11"
  }
 },
 "nbformat": 4,
 "nbformat_minor": 5
}
