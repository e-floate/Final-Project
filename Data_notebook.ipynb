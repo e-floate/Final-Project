{
 "cells": [
  {
   "cell_type": "code",
   "execution_count": 2,
   "id": "74d8cfce",
   "metadata": {},
   "outputs": [],
   "source": [
    "import pandas as pd\n",
    "import pickle\n",
    "from sklearn.model_selection import train_test_split\n",
    "from sklearn.svm import NuSVC\n",
    "from sklearn.svm import SVC\n",
    "from sklearn.svm import LinearSVC\n",
    "from sklearn import preprocessing\n",
    "#from sklearn.pipeline import make_pipeline\n",
    "#from sklearn.preprocessing import StandardScaler\n",
    "#from sklearn.ensemble import GradientBoostingClassifier"
   ]
  },
  {
   "cell_type": "code",
   "execution_count": 11,
   "id": "4e668aac",
   "metadata": {
    "scrolled": false
   },
   "outputs": [
    {
     "data": {
      "text/html": [
       "<div>\n",
       "<style scoped>\n",
       "    .dataframe tbody tr th:only-of-type {\n",
       "        vertical-align: middle;\n",
       "    }\n",
       "\n",
       "    .dataframe tbody tr th {\n",
       "        vertical-align: top;\n",
       "    }\n",
       "\n",
       "    .dataframe thead th {\n",
       "        text-align: right;\n",
       "    }\n",
       "</style>\n",
       "<table border=\"1\" class=\"dataframe\">\n",
       "  <thead>\n",
       "    <tr style=\"text-align: right;\">\n",
       "      <th></th>\n",
       "      <th>NumDots</th>\n",
       "      <th>SubdomainLevel</th>\n",
       "      <th>PathLevel</th>\n",
       "      <th>UrlLength</th>\n",
       "      <th>NumDash</th>\n",
       "      <th>NumDashInHostname</th>\n",
       "      <th>AtSymbol</th>\n",
       "      <th>TildeSymbol</th>\n",
       "      <th>NumUnderscore</th>\n",
       "      <th>NumPercent</th>\n",
       "      <th>...</th>\n",
       "      <th>IframeOrFrame</th>\n",
       "      <th>MissingTitle</th>\n",
       "      <th>ImagesOnlyInForm</th>\n",
       "      <th>SubdomainLevelRT</th>\n",
       "      <th>UrlLengthRT</th>\n",
       "      <th>PctExtResourceUrlsRT</th>\n",
       "      <th>AbnormalExtFormActionR</th>\n",
       "      <th>ExtMetaScriptLinkRT</th>\n",
       "      <th>PctExtNullSelfRedirectHyperlinksRT</th>\n",
       "      <th>CLASS_LABEL</th>\n",
       "    </tr>\n",
       "  </thead>\n",
       "  <tbody>\n",
       "    <tr>\n",
       "      <th>0</th>\n",
       "      <td>3</td>\n",
       "      <td>1</td>\n",
       "      <td>5</td>\n",
       "      <td>72</td>\n",
       "      <td>0</td>\n",
       "      <td>0</td>\n",
       "      <td>0</td>\n",
       "      <td>0</td>\n",
       "      <td>0</td>\n",
       "      <td>0</td>\n",
       "      <td>...</td>\n",
       "      <td>0</td>\n",
       "      <td>0</td>\n",
       "      <td>1</td>\n",
       "      <td>1</td>\n",
       "      <td>0</td>\n",
       "      <td>1</td>\n",
       "      <td>1</td>\n",
       "      <td>-1</td>\n",
       "      <td>1</td>\n",
       "      <td>1</td>\n",
       "    </tr>\n",
       "    <tr>\n",
       "      <th>1</th>\n",
       "      <td>3</td>\n",
       "      <td>1</td>\n",
       "      <td>3</td>\n",
       "      <td>144</td>\n",
       "      <td>0</td>\n",
       "      <td>0</td>\n",
       "      <td>0</td>\n",
       "      <td>0</td>\n",
       "      <td>2</td>\n",
       "      <td>0</td>\n",
       "      <td>...</td>\n",
       "      <td>0</td>\n",
       "      <td>0</td>\n",
       "      <td>0</td>\n",
       "      <td>1</td>\n",
       "      <td>-1</td>\n",
       "      <td>1</td>\n",
       "      <td>1</td>\n",
       "      <td>1</td>\n",
       "      <td>1</td>\n",
       "      <td>1</td>\n",
       "    </tr>\n",
       "    <tr>\n",
       "      <th>2</th>\n",
       "      <td>3</td>\n",
       "      <td>1</td>\n",
       "      <td>2</td>\n",
       "      <td>58</td>\n",
       "      <td>0</td>\n",
       "      <td>0</td>\n",
       "      <td>0</td>\n",
       "      <td>0</td>\n",
       "      <td>0</td>\n",
       "      <td>0</td>\n",
       "      <td>...</td>\n",
       "      <td>0</td>\n",
       "      <td>0</td>\n",
       "      <td>0</td>\n",
       "      <td>1</td>\n",
       "      <td>0</td>\n",
       "      <td>-1</td>\n",
       "      <td>1</td>\n",
       "      <td>-1</td>\n",
       "      <td>0</td>\n",
       "      <td>1</td>\n",
       "    </tr>\n",
       "    <tr>\n",
       "      <th>3</th>\n",
       "      <td>3</td>\n",
       "      <td>1</td>\n",
       "      <td>6</td>\n",
       "      <td>79</td>\n",
       "      <td>1</td>\n",
       "      <td>0</td>\n",
       "      <td>0</td>\n",
       "      <td>0</td>\n",
       "      <td>0</td>\n",
       "      <td>0</td>\n",
       "      <td>...</td>\n",
       "      <td>0</td>\n",
       "      <td>0</td>\n",
       "      <td>0</td>\n",
       "      <td>1</td>\n",
       "      <td>-1</td>\n",
       "      <td>1</td>\n",
       "      <td>1</td>\n",
       "      <td>1</td>\n",
       "      <td>-1</td>\n",
       "      <td>1</td>\n",
       "    </tr>\n",
       "    <tr>\n",
       "      <th>4</th>\n",
       "      <td>3</td>\n",
       "      <td>0</td>\n",
       "      <td>4</td>\n",
       "      <td>46</td>\n",
       "      <td>0</td>\n",
       "      <td>0</td>\n",
       "      <td>0</td>\n",
       "      <td>0</td>\n",
       "      <td>0</td>\n",
       "      <td>0</td>\n",
       "      <td>...</td>\n",
       "      <td>1</td>\n",
       "      <td>0</td>\n",
       "      <td>0</td>\n",
       "      <td>1</td>\n",
       "      <td>1</td>\n",
       "      <td>-1</td>\n",
       "      <td>0</td>\n",
       "      <td>-1</td>\n",
       "      <td>-1</td>\n",
       "      <td>1</td>\n",
       "    </tr>\n",
       "  </tbody>\n",
       "</table>\n",
       "<p>5 rows × 49 columns</p>\n",
       "</div>"
      ],
      "text/plain": [
       "   NumDots  SubdomainLevel  PathLevel  UrlLength  NumDash  NumDashInHostname  \\\n",
       "0        3               1          5         72        0                  0   \n",
       "1        3               1          3        144        0                  0   \n",
       "2        3               1          2         58        0                  0   \n",
       "3        3               1          6         79        1                  0   \n",
       "4        3               0          4         46        0                  0   \n",
       "\n",
       "   AtSymbol  TildeSymbol  NumUnderscore  NumPercent  ...  IframeOrFrame  \\\n",
       "0         0            0              0           0  ...              0   \n",
       "1         0            0              2           0  ...              0   \n",
       "2         0            0              0           0  ...              0   \n",
       "3         0            0              0           0  ...              0   \n",
       "4         0            0              0           0  ...              1   \n",
       "\n",
       "   MissingTitle  ImagesOnlyInForm  SubdomainLevelRT  UrlLengthRT  \\\n",
       "0             0                 1                 1            0   \n",
       "1             0                 0                 1           -1   \n",
       "2             0                 0                 1            0   \n",
       "3             0                 0                 1           -1   \n",
       "4             0                 0                 1            1   \n",
       "\n",
       "   PctExtResourceUrlsRT  AbnormalExtFormActionR  ExtMetaScriptLinkRT  \\\n",
       "0                     1                       1                   -1   \n",
       "1                     1                       1                    1   \n",
       "2                    -1                       1                   -1   \n",
       "3                     1                       1                    1   \n",
       "4                    -1                       0                   -1   \n",
       "\n",
       "   PctExtNullSelfRedirectHyperlinksRT  CLASS_LABEL  \n",
       "0                                   1            1  \n",
       "1                                   1            1  \n",
       "2                                   0            1  \n",
       "3                                  -1            1  \n",
       "4                                  -1            1  \n",
       "\n",
       "[5 rows x 49 columns]"
      ]
     },
     "execution_count": 11,
     "metadata": {},
     "output_type": "execute_result"
    }
   ],
   "source": [
    "#raw_data = pd.read_csv(\"Data_Pre-processing\\\\Phishing_Legitimate_full.csv\")\n",
    "raw_data = pd.read_excel('Phish_URL_HYPERLINK.xlsx')\n",
    "raw_data.head()"
   ]
  },
  {
   "cell_type": "code",
   "execution_count": 12,
   "id": "f21e761a",
   "metadata": {},
   "outputs": [
    {
     "name": "stdout",
     "output_type": "stream",
     "text": [
      "10000\n"
     ]
    }
   ],
   "source": [
    "print(len(raw_data.index))"
   ]
  },
  {
   "cell_type": "markdown",
   "id": "4f179a57",
   "metadata": {},
   "source": [
    "### List all column names"
   ]
  },
  {
   "cell_type": "code",
   "execution_count": 13,
   "id": "4a62eaf4",
   "metadata": {
    "scrolled": true
   },
   "outputs": [
    {
     "name": "stdout",
     "output_type": "stream",
     "text": [
      "NumDots\n",
      "SubdomainLevel\n",
      "PathLevel\n",
      "UrlLength\n",
      "NumDash\n",
      "NumDashInHostname\n",
      "AtSymbol\n",
      "TildeSymbol\n",
      "NumUnderscore\n",
      "NumPercent\n",
      "NumQueryComponents\n",
      "NumAmpersand\n",
      "NumHash\n",
      "NumNumericChars\n",
      "NoHttps\n",
      "RandomString\n",
      "IpAddress\n",
      "DomainInSubdomains\n",
      "DomainInPaths\n",
      "HttpsInHostname\n",
      "HostnameLength\n",
      "PathLength\n",
      "QueryLength\n",
      "DoubleSlashInPath\n",
      "NumSensitiveWords\n",
      "EmbeddedBrandName\n",
      "PctExtHyperlinks\n",
      "PctExtResourceUrls\n",
      "ExtFavicon\n",
      "InsecureForms\n",
      "RelativeFormAction\n",
      "ExtFormAction\n",
      "AbnormalFormAction\n",
      "PctNullSelfRedirectHyperlinks\n",
      "FrequentDomainNameMismatch\n",
      "FakeLinkInStatusBar\n",
      "RightClickDisabled\n",
      "PopUpWindow\n",
      "SubmitInfoToEmail\n",
      "IframeOrFrame\n",
      "MissingTitle\n",
      "ImagesOnlyInForm\n",
      "SubdomainLevelRT\n",
      "UrlLengthRT\n",
      "PctExtResourceUrlsRT\n",
      "AbnormalExtFormActionR\n",
      "ExtMetaScriptLinkRT\n",
      "PctExtNullSelfRedirectHyperlinksRT\n",
      "CLASS_LABEL\n"
     ]
    }
   ],
   "source": [
    "for column in raw_data.columns:\n",
    "    print(column)"
   ]
  },
  {
   "cell_type": "markdown",
   "id": "7a2889e7",
   "metadata": {},
   "source": [
    "# Clean Data"
   ]
  },
  {
   "cell_type": "code",
   "execution_count": 14,
   "id": "b0756a76",
   "metadata": {},
   "outputs": [
    {
     "name": "stdout",
     "output_type": "stream",
     "text": [
      "10000\n"
     ]
    }
   ],
   "source": [
    "clean_data = raw_data.dropna()\n",
    "print(len(clean_data.index))"
   ]
  },
  {
   "cell_type": "markdown",
   "id": "4feeca06",
   "metadata": {},
   "source": [
    "Note how the number of rows has not changed, this is certainly one complete dataset, whoop!"
   ]
  },
  {
   "cell_type": "code",
   "execution_count": 15,
   "id": "59f89736",
   "metadata": {},
   "outputs": [
    {
     "data": {
      "text/html": [
       "<div>\n",
       "<style scoped>\n",
       "    .dataframe tbody tr th:only-of-type {\n",
       "        vertical-align: middle;\n",
       "    }\n",
       "\n",
       "    .dataframe tbody tr th {\n",
       "        vertical-align: top;\n",
       "    }\n",
       "\n",
       "    .dataframe thead th {\n",
       "        text-align: right;\n",
       "    }\n",
       "</style>\n",
       "<table border=\"1\" class=\"dataframe\">\n",
       "  <thead>\n",
       "    <tr style=\"text-align: right;\">\n",
       "      <th></th>\n",
       "      <th>NumDots</th>\n",
       "      <th>SubdomainLevel</th>\n",
       "      <th>PathLevel</th>\n",
       "      <th>UrlLength</th>\n",
       "      <th>NumDash</th>\n",
       "      <th>NumDashInHostname</th>\n",
       "      <th>AtSymbol</th>\n",
       "      <th>TildeSymbol</th>\n",
       "      <th>NumUnderscore</th>\n",
       "      <th>NumPercent</th>\n",
       "      <th>...</th>\n",
       "      <th>IframeOrFrame</th>\n",
       "      <th>MissingTitle</th>\n",
       "      <th>ImagesOnlyInForm</th>\n",
       "      <th>SubdomainLevelRT</th>\n",
       "      <th>UrlLengthRT</th>\n",
       "      <th>PctExtResourceUrlsRT</th>\n",
       "      <th>AbnormalExtFormActionR</th>\n",
       "      <th>ExtMetaScriptLinkRT</th>\n",
       "      <th>PctExtNullSelfRedirectHyperlinksRT</th>\n",
       "      <th>CLASS_LABEL</th>\n",
       "    </tr>\n",
       "  </thead>\n",
       "  <tbody>\n",
       "    <tr>\n",
       "      <th>0</th>\n",
       "      <td>3</td>\n",
       "      <td>1</td>\n",
       "      <td>5</td>\n",
       "      <td>72</td>\n",
       "      <td>0</td>\n",
       "      <td>0</td>\n",
       "      <td>0</td>\n",
       "      <td>0</td>\n",
       "      <td>0</td>\n",
       "      <td>0</td>\n",
       "      <td>...</td>\n",
       "      <td>0</td>\n",
       "      <td>0</td>\n",
       "      <td>1</td>\n",
       "      <td>1</td>\n",
       "      <td>0</td>\n",
       "      <td>1</td>\n",
       "      <td>1</td>\n",
       "      <td>-1</td>\n",
       "      <td>1</td>\n",
       "      <td>1</td>\n",
       "    </tr>\n",
       "    <tr>\n",
       "      <th>1</th>\n",
       "      <td>3</td>\n",
       "      <td>1</td>\n",
       "      <td>3</td>\n",
       "      <td>144</td>\n",
       "      <td>0</td>\n",
       "      <td>0</td>\n",
       "      <td>0</td>\n",
       "      <td>0</td>\n",
       "      <td>2</td>\n",
       "      <td>0</td>\n",
       "      <td>...</td>\n",
       "      <td>0</td>\n",
       "      <td>0</td>\n",
       "      <td>0</td>\n",
       "      <td>1</td>\n",
       "      <td>-1</td>\n",
       "      <td>1</td>\n",
       "      <td>1</td>\n",
       "      <td>1</td>\n",
       "      <td>1</td>\n",
       "      <td>1</td>\n",
       "    </tr>\n",
       "    <tr>\n",
       "      <th>2</th>\n",
       "      <td>3</td>\n",
       "      <td>1</td>\n",
       "      <td>2</td>\n",
       "      <td>58</td>\n",
       "      <td>0</td>\n",
       "      <td>0</td>\n",
       "      <td>0</td>\n",
       "      <td>0</td>\n",
       "      <td>0</td>\n",
       "      <td>0</td>\n",
       "      <td>...</td>\n",
       "      <td>0</td>\n",
       "      <td>0</td>\n",
       "      <td>0</td>\n",
       "      <td>1</td>\n",
       "      <td>0</td>\n",
       "      <td>-1</td>\n",
       "      <td>1</td>\n",
       "      <td>-1</td>\n",
       "      <td>0</td>\n",
       "      <td>1</td>\n",
       "    </tr>\n",
       "    <tr>\n",
       "      <th>3</th>\n",
       "      <td>3</td>\n",
       "      <td>1</td>\n",
       "      <td>6</td>\n",
       "      <td>79</td>\n",
       "      <td>1</td>\n",
       "      <td>0</td>\n",
       "      <td>0</td>\n",
       "      <td>0</td>\n",
       "      <td>0</td>\n",
       "      <td>0</td>\n",
       "      <td>...</td>\n",
       "      <td>0</td>\n",
       "      <td>0</td>\n",
       "      <td>0</td>\n",
       "      <td>1</td>\n",
       "      <td>-1</td>\n",
       "      <td>1</td>\n",
       "      <td>1</td>\n",
       "      <td>1</td>\n",
       "      <td>-1</td>\n",
       "      <td>1</td>\n",
       "    </tr>\n",
       "    <tr>\n",
       "      <th>4</th>\n",
       "      <td>3</td>\n",
       "      <td>0</td>\n",
       "      <td>4</td>\n",
       "      <td>46</td>\n",
       "      <td>0</td>\n",
       "      <td>0</td>\n",
       "      <td>0</td>\n",
       "      <td>0</td>\n",
       "      <td>0</td>\n",
       "      <td>0</td>\n",
       "      <td>...</td>\n",
       "      <td>1</td>\n",
       "      <td>0</td>\n",
       "      <td>0</td>\n",
       "      <td>1</td>\n",
       "      <td>1</td>\n",
       "      <td>-1</td>\n",
       "      <td>0</td>\n",
       "      <td>-1</td>\n",
       "      <td>-1</td>\n",
       "      <td>1</td>\n",
       "    </tr>\n",
       "  </tbody>\n",
       "</table>\n",
       "<p>5 rows × 49 columns</p>\n",
       "</div>"
      ],
      "text/plain": [
       "   NumDots  SubdomainLevel  PathLevel  UrlLength  NumDash  NumDashInHostname  \\\n",
       "0        3               1          5         72        0                  0   \n",
       "1        3               1          3        144        0                  0   \n",
       "2        3               1          2         58        0                  0   \n",
       "3        3               1          6         79        1                  0   \n",
       "4        3               0          4         46        0                  0   \n",
       "\n",
       "   AtSymbol  TildeSymbol  NumUnderscore  NumPercent  ...  IframeOrFrame  \\\n",
       "0         0            0              0           0  ...              0   \n",
       "1         0            0              2           0  ...              0   \n",
       "2         0            0              0           0  ...              0   \n",
       "3         0            0              0           0  ...              0   \n",
       "4         0            0              0           0  ...              1   \n",
       "\n",
       "   MissingTitle  ImagesOnlyInForm  SubdomainLevelRT  UrlLengthRT  \\\n",
       "0             0                 1                 1            0   \n",
       "1             0                 0                 1           -1   \n",
       "2             0                 0                 1            0   \n",
       "3             0                 0                 1           -1   \n",
       "4             0                 0                 1            1   \n",
       "\n",
       "   PctExtResourceUrlsRT  AbnormalExtFormActionR  ExtMetaScriptLinkRT  \\\n",
       "0                     1                       1                   -1   \n",
       "1                     1                       1                    1   \n",
       "2                    -1                       1                   -1   \n",
       "3                     1                       1                    1   \n",
       "4                    -1                       0                   -1   \n",
       "\n",
       "   PctExtNullSelfRedirectHyperlinksRT  CLASS_LABEL  \n",
       "0                                   1            1  \n",
       "1                                   1            1  \n",
       "2                                   0            1  \n",
       "3                                  -1            1  \n",
       "4                                  -1            1  \n",
       "\n",
       "[5 rows x 49 columns]"
      ]
     },
     "execution_count": 15,
     "metadata": {},
     "output_type": "execute_result"
    }
   ],
   "source": [
    "clean_data.head()"
   ]
  },
  {
   "attachments": {},
   "cell_type": "markdown",
   "id": "d87270b2",
   "metadata": {},
   "source": [
    "# Feature Creation"
   ]
  },
  {
   "cell_type": "code",
   "execution_count": 17,
   "id": "e6f1a4d9",
   "metadata": {},
   "outputs": [],
   "source": [
    "clean_copy = clean_data\n",
    "sus_words = ['security','login','signin','bank','account','update','include','webs','online']\n",
    "clean_copy['f1'] = (clean_copy[\"PctExtHyperlinks\"])"
   ]
  },
  {
   "cell_type": "code",
   "execution_count": 20,
   "id": "b958ed94",
   "metadata": {},
   "outputs": [],
   "source": [
    "clean_copy['f2'] = (clean_copy[\"PctExtResourceUrls\"])\n",
    "clean_copy['f3'] = (clean_copy[\"NumDash\"])\n",
    "clean_copy['f4'] = (clean_copy['NumNumericChars'])\n",
    "clean_copy['f5'] = (clean_copy['NumDash'] == 0)\n",
    "clean_copy['f6'] = (clean_copy[\"NumDots\"] >= 3)\n",
    "features = ['f1','f2','f3','f4']"
   ]
  },
  {
   "cell_type": "code",
   "execution_count": 21,
   "id": "354baad2",
   "metadata": {},
   "outputs": [
    {
     "data": {
      "text/html": [
       "<div>\n",
       "<style scoped>\n",
       "    .dataframe tbody tr th:only-of-type {\n",
       "        vertical-align: middle;\n",
       "    }\n",
       "\n",
       "    .dataframe tbody tr th {\n",
       "        vertical-align: top;\n",
       "    }\n",
       "\n",
       "    .dataframe thead th {\n",
       "        text-align: right;\n",
       "    }\n",
       "</style>\n",
       "<table border=\"1\" class=\"dataframe\">\n",
       "  <thead>\n",
       "    <tr style=\"text-align: right;\">\n",
       "      <th></th>\n",
       "      <th>NumDots</th>\n",
       "      <th>SubdomainLevel</th>\n",
       "      <th>PathLevel</th>\n",
       "      <th>UrlLength</th>\n",
       "      <th>NumDash</th>\n",
       "      <th>NumDashInHostname</th>\n",
       "      <th>AtSymbol</th>\n",
       "      <th>TildeSymbol</th>\n",
       "      <th>NumUnderscore</th>\n",
       "      <th>NumPercent</th>\n",
       "      <th>...</th>\n",
       "      <th>AbnormalExtFormActionR</th>\n",
       "      <th>ExtMetaScriptLinkRT</th>\n",
       "      <th>PctExtNullSelfRedirectHyperlinksRT</th>\n",
       "      <th>CLASS_LABEL</th>\n",
       "      <th>f1</th>\n",
       "      <th>f2</th>\n",
       "      <th>f3</th>\n",
       "      <th>f4</th>\n",
       "      <th>f5</th>\n",
       "      <th>f6</th>\n",
       "    </tr>\n",
       "  </thead>\n",
       "  <tbody>\n",
       "    <tr>\n",
       "      <th>0</th>\n",
       "      <td>3</td>\n",
       "      <td>1</td>\n",
       "      <td>5</td>\n",
       "      <td>72</td>\n",
       "      <td>0</td>\n",
       "      <td>0</td>\n",
       "      <td>0</td>\n",
       "      <td>0</td>\n",
       "      <td>0</td>\n",
       "      <td>0</td>\n",
       "      <td>...</td>\n",
       "      <td>1</td>\n",
       "      <td>-1</td>\n",
       "      <td>1</td>\n",
       "      <td>1</td>\n",
       "      <td>0.000</td>\n",
       "      <td>0.250000</td>\n",
       "      <td>0</td>\n",
       "      <td>False</td>\n",
       "      <td>True</td>\n",
       "      <td>True</td>\n",
       "    </tr>\n",
       "    <tr>\n",
       "      <th>1</th>\n",
       "      <td>3</td>\n",
       "      <td>1</td>\n",
       "      <td>3</td>\n",
       "      <td>144</td>\n",
       "      <td>0</td>\n",
       "      <td>0</td>\n",
       "      <td>0</td>\n",
       "      <td>0</td>\n",
       "      <td>2</td>\n",
       "      <td>0</td>\n",
       "      <td>...</td>\n",
       "      <td>1</td>\n",
       "      <td>1</td>\n",
       "      <td>1</td>\n",
       "      <td>1</td>\n",
       "      <td>0.000</td>\n",
       "      <td>0.000000</td>\n",
       "      <td>0</td>\n",
       "      <td>True</td>\n",
       "      <td>True</td>\n",
       "      <td>True</td>\n",
       "    </tr>\n",
       "    <tr>\n",
       "      <th>2</th>\n",
       "      <td>3</td>\n",
       "      <td>1</td>\n",
       "      <td>2</td>\n",
       "      <td>58</td>\n",
       "      <td>0</td>\n",
       "      <td>0</td>\n",
       "      <td>0</td>\n",
       "      <td>0</td>\n",
       "      <td>0</td>\n",
       "      <td>0</td>\n",
       "      <td>...</td>\n",
       "      <td>1</td>\n",
       "      <td>-1</td>\n",
       "      <td>0</td>\n",
       "      <td>1</td>\n",
       "      <td>0.375</td>\n",
       "      <td>1.000000</td>\n",
       "      <td>0</td>\n",
       "      <td>False</td>\n",
       "      <td>True</td>\n",
       "      <td>True</td>\n",
       "    </tr>\n",
       "    <tr>\n",
       "      <th>3</th>\n",
       "      <td>3</td>\n",
       "      <td>1</td>\n",
       "      <td>6</td>\n",
       "      <td>79</td>\n",
       "      <td>1</td>\n",
       "      <td>0</td>\n",
       "      <td>0</td>\n",
       "      <td>0</td>\n",
       "      <td>0</td>\n",
       "      <td>0</td>\n",
       "      <td>...</td>\n",
       "      <td>1</td>\n",
       "      <td>1</td>\n",
       "      <td>-1</td>\n",
       "      <td>1</td>\n",
       "      <td>1.000</td>\n",
       "      <td>0.095238</td>\n",
       "      <td>1</td>\n",
       "      <td>False</td>\n",
       "      <td>False</td>\n",
       "      <td>True</td>\n",
       "    </tr>\n",
       "    <tr>\n",
       "      <th>4</th>\n",
       "      <td>3</td>\n",
       "      <td>0</td>\n",
       "      <td>4</td>\n",
       "      <td>46</td>\n",
       "      <td>0</td>\n",
       "      <td>0</td>\n",
       "      <td>0</td>\n",
       "      <td>0</td>\n",
       "      <td>0</td>\n",
       "      <td>0</td>\n",
       "      <td>...</td>\n",
       "      <td>0</td>\n",
       "      <td>-1</td>\n",
       "      <td>-1</td>\n",
       "      <td>1</td>\n",
       "      <td>1.000</td>\n",
       "      <td>1.000000</td>\n",
       "      <td>0</td>\n",
       "      <td>False</td>\n",
       "      <td>True</td>\n",
       "      <td>True</td>\n",
       "    </tr>\n",
       "  </tbody>\n",
       "</table>\n",
       "<p>5 rows × 55 columns</p>\n",
       "</div>"
      ],
      "text/plain": [
       "   NumDots  SubdomainLevel  PathLevel  UrlLength  NumDash  NumDashInHostname  \\\n",
       "0        3               1          5         72        0                  0   \n",
       "1        3               1          3        144        0                  0   \n",
       "2        3               1          2         58        0                  0   \n",
       "3        3               1          6         79        1                  0   \n",
       "4        3               0          4         46        0                  0   \n",
       "\n",
       "   AtSymbol  TildeSymbol  NumUnderscore  NumPercent  ...  \\\n",
       "0         0            0              0           0  ...   \n",
       "1         0            0              2           0  ...   \n",
       "2         0            0              0           0  ...   \n",
       "3         0            0              0           0  ...   \n",
       "4         0            0              0           0  ...   \n",
       "\n",
       "   AbnormalExtFormActionR  ExtMetaScriptLinkRT  \\\n",
       "0                       1                   -1   \n",
       "1                       1                    1   \n",
       "2                       1                   -1   \n",
       "3                       1                    1   \n",
       "4                       0                   -1   \n",
       "\n",
       "   PctExtNullSelfRedirectHyperlinksRT  CLASS_LABEL     f1        f2  f3  \\\n",
       "0                                   1            1  0.000  0.250000   0   \n",
       "1                                   1            1  0.000  0.000000   0   \n",
       "2                                   0            1  0.375  1.000000   0   \n",
       "3                                  -1            1  1.000  0.095238   1   \n",
       "4                                  -1            1  1.000  1.000000   0   \n",
       "\n",
       "      f4     f5    f6  \n",
       "0  False   True  True  \n",
       "1   True   True  True  \n",
       "2  False   True  True  \n",
       "3  False  False  True  \n",
       "4  False   True  True  \n",
       "\n",
       "[5 rows x 55 columns]"
      ]
     },
     "execution_count": 21,
     "metadata": {},
     "output_type": "execute_result"
    }
   ],
   "source": [
    "clean_copy.head()"
   ]
  },
  {
   "cell_type": "code",
   "execution_count": 22,
   "id": "5285d347",
   "metadata": {},
   "outputs": [],
   "source": [
    "y = clean_data.CLASS_LABEL\n",
    "#feature_columns = [\"qty_dot_url\",\"qty_hyphen_url\",\"qty_questionmark_url\",\"qty_and_url\",\"length_url\",\n",
    "                   #\"domain_length\",\"qty_dot_directory\",\"directory_length\",\"file_length\",\"qty_params\",\"url_shortened\"]\n",
    "X = clean_copy[features]\n",
    "train_X, val_X, train_y, val_y = train_test_split(X,y, random_state=1)"
   ]
  },
  {
   "cell_type": "code",
   "execution_count": 23,
   "id": "7057df7e",
   "metadata": {},
   "outputs": [
    {
     "data": {
      "text/plain": [
       "NuSVC(kernel='linear', shrinking=False)"
      ]
     },
     "execution_count": 23,
     "metadata": {},
     "output_type": "execute_result"
    }
   ],
   "source": [
    "model = NuSVC(kernel = 'linear',gamma = 'scale', shrinking = False)\n",
    "fit_model = model\n",
    "fit_model.fit(train_X, train_y)"
   ]
  },
  {
   "cell_type": "code",
   "execution_count": 24,
   "id": "870cd90d",
   "metadata": {},
   "outputs": [],
   "source": [
    "val_predictions = fit_model.predict(val_X)\n",
    "#print(val_predictions)\n",
    "#print(val_y.head())"
   ]
  },
  {
   "attachments": {},
   "cell_type": "markdown",
   "id": "41ccc241",
   "metadata": {},
   "source": [
    "# MAE Testing"
   ]
  },
  {
   "cell_type": "code",
   "execution_count": 23,
   "id": "b0930ffd",
   "metadata": {},
   "outputs": [],
   "source": [
    "from sklearn.metrics import mean_absolute_error"
   ]
  },
  {
   "cell_type": "code",
   "execution_count": 29,
   "id": "fbb38adb",
   "metadata": {},
   "outputs": [
    {
     "name": "stdout",
     "output_type": "stream",
     "text": [
      "0.47578775064793344\n"
     ]
    }
   ],
   "source": [
    "val_mae = mean_absolute_error(val_predictions, val_y)\n",
    "print(val_mae)"
   ]
  },
  {
   "cell_type": "markdown",
   "id": "97596b2c",
   "metadata": {},
   "source": [
    "I think the MAE in this context represents the percentage chance the model will be wrong, as the target is a boolean. Let's try reducing the amount of features, and see how this affects the MAE"
   ]
  },
  {
   "cell_type": "code",
   "execution_count": 32,
   "id": "3fe9af32",
   "metadata": {},
   "outputs": [
    {
     "name": "stdout",
     "output_type": "stream",
     "text": [
      "0.20570181421361342\n"
     ]
    }
   ],
   "source": [
    "feature_columns = ['f1','f2','f3','f4',\"length_url\",\n",
    "                   \"domain_length\"]\n",
    "X = clean_data[feature_columns]\n",
    "train_X, val_X, train_y, val_y = train_test_split(X,y, random_state=1)\n",
    "model.fit(train_X, train_y)\n",
    "val_predictions = model.predict(val_X)\n",
    "val_mae = mean_absolute_error(val_predictions, val_y)\n",
    "print(val_mae)"
   ]
  },
  {
   "cell_type": "code",
   "execution_count": 33,
   "id": "6f8a189a",
   "metadata": {},
   "outputs": [],
   "source": [
    "def get_mae(X, y, model):\n",
    "    train_X, val_X, train_y, val_y = train_test_split(X,y, random_state=1)\n",
    "    print(\"Training Model...\")\n",
    "    model.fit(train_X, train_y)\n",
    "    print(\"Making Predictions...\")\n",
    "    val_predictions = model.predict(val_X)\n",
    "    print(\"Calculating MAE...\")\n",
    "    val_mae = mean_absolute_error(val_predictions, val_y)\n",
    "    print(val_mae)"
   ]
  },
  {
   "cell_type": "code",
   "execution_count": 35,
   "id": "18c85078",
   "metadata": {},
   "outputs": [
    {
     "name": "stdout",
     "output_type": "stream",
     "text": [
      "Training Model...\n",
      "Making Predictions...\n",
      "Calculating MAE...\n",
      "0.20563361069431182\n"
     ]
    }
   ],
   "source": [
    "feature_columns = ['f1','f2','f3',\"length_url\",\n",
    "                   \"domain_length\"]\n",
    "X = clean_copy[feature_columns]\n",
    "get_mae(X,y,model)"
   ]
  },
  {
   "cell_type": "code",
   "execution_count": 36,
   "id": "c2088f0b",
   "metadata": {},
   "outputs": [
    {
     "name": "stdout",
     "output_type": "stream",
     "text": [
      "Training Model...\n",
      "Making Predictions...\n",
      "Calculating MAE...\n",
      "0.1992224798799618\n"
     ]
    }
   ],
   "source": [
    "feature_columns = ['f1','f2','f3',\"length_url\"]\n",
    "X = clean_copy[feature_columns]\n",
    "get_mae(X,y,model)"
   ]
  },
  {
   "cell_type": "code",
   "execution_count": 49,
   "id": "96a9ed59",
   "metadata": {},
   "outputs": [
    {
     "name": "stdout",
     "output_type": "stream",
     "text": [
      "Training Model...\n",
      "Making Predictions...\n",
      "Calculating MAE...\n",
      "0.20017732915018416\n"
     ]
    }
   ],
   "source": [
    "feature_columns = ['f1','f2','f3',\"length_url\",'f6']\n",
    "X = clean_copy[feature_columns]\n",
    "get_mae(X,y,model)"
   ]
  },
  {
   "attachments": {},
   "cell_type": "markdown",
   "id": "20277aac",
   "metadata": {},
   "source": [
    "# Accuracy Testing"
   ]
  },
  {
   "cell_type": "code",
   "execution_count": 25,
   "id": "7708aa71",
   "metadata": {},
   "outputs": [],
   "source": [
    "from sklearn.metrics import balanced_accuracy_score"
   ]
  },
  {
   "cell_type": "code",
   "execution_count": 26,
   "id": "e0f3a9cd",
   "metadata": {},
   "outputs": [],
   "source": [
    "def get_accuracy(X, y, model):\n",
    "    train_X, val_X, train_y, val_y = train_test_split(X,y, random_state=1)\n",
    "    print(\"Training Model...\")\n",
    "    model.fit(train_X, train_y)\n",
    "    print(\"Making Predictions...\")\n",
    "    val_predictions = model.predict(val_X)\n",
    "    print(\"Calculating Accuracy...\")\n",
    "    print(balanced_accuracy_score(val_y, val_predictions))"
   ]
  },
  {
   "cell_type": "code",
   "execution_count": 28,
   "id": "85ed662a",
   "metadata": {},
   "outputs": [
    {
     "name": "stdout",
     "output_type": "stream",
     "text": [
      "Training Model...\n",
      "Making Predictions...\n",
      "Calculating Accuracy...\n",
      "0.617261575907184\n"
     ]
    }
   ],
   "source": [
    "feature_columns = ['f1','f2','f3']\n",
    "X = clean_copy[feature_columns]\n",
    "get_accuracy(X,y,model)"
   ]
  },
  {
   "cell_type": "code",
   "execution_count": 57,
   "id": "8adfca92",
   "metadata": {},
   "outputs": [
    {
     "name": "stdout",
     "output_type": "stream",
     "text": [
      "Training Model...\n",
      "Making Predictions...\n",
      "Calculating Accuracy...\n",
      "0.801897927573546\n"
     ]
    }
   ],
   "source": [
    "feature_columns = ['f1','f2','f3',\"length_url\",'f6']\n",
    "X = clean_copy[feature_columns]\n",
    "get_accuracy(X,y,model)"
   ]
  },
  {
   "cell_type": "code",
   "execution_count": 66,
   "id": "8aad5e25",
   "metadata": {},
   "outputs": [
    {
     "name": "stdout",
     "output_type": "stream",
     "text": [
      "Training Model...\n",
      "Making Predictions...\n",
      "Calculating Accuracy...\n",
      "0.8047388264913926\n"
     ]
    }
   ],
   "source": [
    "feature_columns = ['f2','f3',\"length_url\",'f6']\n",
    "X = clean_copy[feature_columns]\n",
    "get_accuracy(X,y,model)"
   ]
  },
  {
   "cell_type": "markdown",
   "id": "91b256cd",
   "metadata": {},
   "source": [
    "Hmm, it seemed to have no effect? Lets try calculating the MAE when all columns are used as feature columns? I also created a function to calculate the MAE."
   ]
  },
  {
   "cell_type": "code",
   "execution_count": 14,
   "id": "9e80ae35",
   "metadata": {},
   "outputs": [],
   "source": [
    "feature_for_columns = []\n",
    "for column in clean_data.columns:\n",
    "    feature_for_columns.append(column)\n",
    "X=clean_data[feature_for_columns]\n",
    "model = NuSVC(kernel = 'linear',gamma = 'scale', shrinking = False)\n",
    "#get_mae(X,y,model)"
   ]
  },
  {
   "cell_type": "code",
   "execution_count": 15,
   "id": "5d53f338",
   "metadata": {
    "scrolled": false
   },
   "outputs": [
    {
     "name": "stdout",
     "output_type": "stream",
     "text": [
      "Training Model...\n",
      "Making Predictions...\n",
      "Calculating MAE...\n",
      "0.2009957713818033\n",
      "Feature Removed: qty_dot_url\n",
      "Training Model...\n"
     ]
    },
    {
     "ename": "KeyboardInterrupt",
     "evalue": "",
     "output_type": "error",
     "traceback": [
      "\u001b[1;31m---------------------------------------------------------------------------\u001b[0m",
      "\u001b[1;31mKeyboardInterrupt\u001b[0m                         Traceback (most recent call last)",
      "\u001b[1;32m~\\AppData\\Local\\Temp/ipykernel_16136/199218236.py\u001b[0m in \u001b[0;36m<module>\u001b[1;34m\u001b[0m\n\u001b[0;32m      4\u001b[0m     \u001b[0mX\u001b[0m\u001b[1;33m=\u001b[0m\u001b[0mclean_data\u001b[0m\u001b[1;33m[\u001b[0m\u001b[0mfeature_columns\u001b[0m\u001b[1;33m]\u001b[0m\u001b[1;33m\u001b[0m\u001b[1;33m\u001b[0m\u001b[0m\n\u001b[0;32m      5\u001b[0m     \u001b[0mmodel\u001b[0m \u001b[1;33m=\u001b[0m \u001b[0mNuSVC\u001b[0m\u001b[1;33m(\u001b[0m\u001b[0mkernel\u001b[0m \u001b[1;33m=\u001b[0m \u001b[1;34m'linear'\u001b[0m\u001b[1;33m,\u001b[0m\u001b[0mgamma\u001b[0m \u001b[1;33m=\u001b[0m \u001b[1;34m'scale'\u001b[0m\u001b[1;33m,\u001b[0m \u001b[0mshrinking\u001b[0m \u001b[1;33m=\u001b[0m \u001b[1;32mFalse\u001b[0m\u001b[1;33m)\u001b[0m\u001b[1;33m\u001b[0m\u001b[1;33m\u001b[0m\u001b[0m\n\u001b[1;32m----> 6\u001b[1;33m     \u001b[0mget_mae\u001b[0m\u001b[1;33m(\u001b[0m\u001b[0mX\u001b[0m\u001b[1;33m,\u001b[0m\u001b[0my\u001b[0m\u001b[1;33m,\u001b[0m\u001b[0mmodel\u001b[0m\u001b[1;33m)\u001b[0m\u001b[1;33m\u001b[0m\u001b[1;33m\u001b[0m\u001b[0m\n\u001b[0m\u001b[0;32m      7\u001b[0m     \u001b[0mfeature_columns\u001b[0m\u001b[1;33m.\u001b[0m\u001b[0mremove\u001b[0m\u001b[1;33m(\u001b[0m\u001b[0mfeature\u001b[0m\u001b[1;33m)\u001b[0m\u001b[1;33m\u001b[0m\u001b[1;33m\u001b[0m\u001b[0m\n\u001b[0;32m      8\u001b[0m     \u001b[0mprint\u001b[0m\u001b[1;33m(\u001b[0m\u001b[1;34m\"Feature Removed: \"\u001b[0m \u001b[1;33m+\u001b[0m \u001b[0mfeature\u001b[0m\u001b[1;33m)\u001b[0m\u001b[1;33m\u001b[0m\u001b[1;33m\u001b[0m\u001b[0m\n",
      "\u001b[1;32m~\\AppData\\Local\\Temp/ipykernel_16136/1463387598.py\u001b[0m in \u001b[0;36mget_mae\u001b[1;34m(X, y, model)\u001b[0m\n\u001b[0;32m      2\u001b[0m     \u001b[0mtrain_X\u001b[0m\u001b[1;33m,\u001b[0m \u001b[0mval_X\u001b[0m\u001b[1;33m,\u001b[0m \u001b[0mtrain_y\u001b[0m\u001b[1;33m,\u001b[0m \u001b[0mval_y\u001b[0m \u001b[1;33m=\u001b[0m \u001b[0mtrain_test_split\u001b[0m\u001b[1;33m(\u001b[0m\u001b[0mX\u001b[0m\u001b[1;33m,\u001b[0m\u001b[0my\u001b[0m\u001b[1;33m,\u001b[0m \u001b[0mrandom_state\u001b[0m\u001b[1;33m=\u001b[0m\u001b[1;36m1\u001b[0m\u001b[1;33m)\u001b[0m\u001b[1;33m\u001b[0m\u001b[1;33m\u001b[0m\u001b[0m\n\u001b[0;32m      3\u001b[0m     \u001b[0mprint\u001b[0m\u001b[1;33m(\u001b[0m\u001b[1;34m\"Training Model...\"\u001b[0m\u001b[1;33m)\u001b[0m\u001b[1;33m\u001b[0m\u001b[1;33m\u001b[0m\u001b[0m\n\u001b[1;32m----> 4\u001b[1;33m     \u001b[0mmodel\u001b[0m\u001b[1;33m.\u001b[0m\u001b[0mfit\u001b[0m\u001b[1;33m(\u001b[0m\u001b[0mtrain_X\u001b[0m\u001b[1;33m,\u001b[0m \u001b[0mtrain_y\u001b[0m\u001b[1;33m)\u001b[0m\u001b[1;33m\u001b[0m\u001b[1;33m\u001b[0m\u001b[0m\n\u001b[0m\u001b[0;32m      5\u001b[0m     \u001b[0mprint\u001b[0m\u001b[1;33m(\u001b[0m\u001b[1;34m\"Making Predictions...\"\u001b[0m\u001b[1;33m)\u001b[0m\u001b[1;33m\u001b[0m\u001b[1;33m\u001b[0m\u001b[0m\n\u001b[0;32m      6\u001b[0m     \u001b[0mval_predictions\u001b[0m \u001b[1;33m=\u001b[0m \u001b[0mmodel\u001b[0m\u001b[1;33m.\u001b[0m\u001b[0mpredict\u001b[0m\u001b[1;33m(\u001b[0m\u001b[0mval_X\u001b[0m\u001b[1;33m)\u001b[0m\u001b[1;33m\u001b[0m\u001b[1;33m\u001b[0m\u001b[0m\n",
      "\u001b[1;32mF:\\applications\\Anaconda\\lib\\site-packages\\sklearn\\svm\\_base.py\u001b[0m in \u001b[0;36mfit\u001b[1;34m(self, X, y, sample_weight)\u001b[0m\n\u001b[0;32m    253\u001b[0m \u001b[1;33m\u001b[0m\u001b[0m\n\u001b[0;32m    254\u001b[0m         \u001b[0mseed\u001b[0m \u001b[1;33m=\u001b[0m \u001b[0mrnd\u001b[0m\u001b[1;33m.\u001b[0m\u001b[0mrandint\u001b[0m\u001b[1;33m(\u001b[0m\u001b[0mnp\u001b[0m\u001b[1;33m.\u001b[0m\u001b[0miinfo\u001b[0m\u001b[1;33m(\u001b[0m\u001b[1;34m\"i\"\u001b[0m\u001b[1;33m)\u001b[0m\u001b[1;33m.\u001b[0m\u001b[0mmax\u001b[0m\u001b[1;33m)\u001b[0m\u001b[1;33m\u001b[0m\u001b[1;33m\u001b[0m\u001b[0m\n\u001b[1;32m--> 255\u001b[1;33m         \u001b[0mfit\u001b[0m\u001b[1;33m(\u001b[0m\u001b[0mX\u001b[0m\u001b[1;33m,\u001b[0m \u001b[0my\u001b[0m\u001b[1;33m,\u001b[0m \u001b[0msample_weight\u001b[0m\u001b[1;33m,\u001b[0m \u001b[0msolver_type\u001b[0m\u001b[1;33m,\u001b[0m \u001b[0mkernel\u001b[0m\u001b[1;33m,\u001b[0m \u001b[0mrandom_seed\u001b[0m\u001b[1;33m=\u001b[0m\u001b[0mseed\u001b[0m\u001b[1;33m)\u001b[0m\u001b[1;33m\u001b[0m\u001b[1;33m\u001b[0m\u001b[0m\n\u001b[0m\u001b[0;32m    256\u001b[0m         \u001b[1;31m# see comment on the other call to np.iinfo in this file\u001b[0m\u001b[1;33m\u001b[0m\u001b[1;33m\u001b[0m\u001b[1;33m\u001b[0m\u001b[0m\n\u001b[0;32m    257\u001b[0m \u001b[1;33m\u001b[0m\u001b[0m\n",
      "\u001b[1;32mF:\\applications\\Anaconda\\lib\\site-packages\\sklearn\\svm\\_base.py\u001b[0m in \u001b[0;36m_dense_fit\u001b[1;34m(self, X, y, sample_weight, solver_type, kernel, random_seed)\u001b[0m\n\u001b[0;32m    331\u001b[0m             \u001b[0mepsilon\u001b[0m\u001b[1;33m=\u001b[0m\u001b[0mself\u001b[0m\u001b[1;33m.\u001b[0m\u001b[0mepsilon\u001b[0m\u001b[1;33m,\u001b[0m\u001b[1;33m\u001b[0m\u001b[1;33m\u001b[0m\u001b[0m\n\u001b[0;32m    332\u001b[0m             \u001b[0mmax_iter\u001b[0m\u001b[1;33m=\u001b[0m\u001b[0mself\u001b[0m\u001b[1;33m.\u001b[0m\u001b[0mmax_iter\u001b[0m\u001b[1;33m,\u001b[0m\u001b[1;33m\u001b[0m\u001b[1;33m\u001b[0m\u001b[0m\n\u001b[1;32m--> 333\u001b[1;33m             \u001b[0mrandom_seed\u001b[0m\u001b[1;33m=\u001b[0m\u001b[0mrandom_seed\u001b[0m\u001b[1;33m,\u001b[0m\u001b[1;33m\u001b[0m\u001b[1;33m\u001b[0m\u001b[0m\n\u001b[0m\u001b[0;32m    334\u001b[0m         )\n\u001b[0;32m    335\u001b[0m \u001b[1;33m\u001b[0m\u001b[0m\n",
      "\u001b[1;31mKeyboardInterrupt\u001b[0m: "
     ]
    }
   ],
   "source": [
    "feature_columns = [\"qty_dot_url\",\"qty_hyphen_url\",\"qty_questionmark_url\",\"qty_and_url\",\"length_url\",\n",
    "                   \"domain_length\",\"qty_dot_directory\",\"directory_length\",\"file_length\",\"qty_params\",\"url_shortened\"]\n",
    "for feature in feature_columns:\n",
    "    X=clean_data[feature_columns]\n",
    "    model = NuSVC(kernel = 'linear',gamma = 'scale', shrinking = False)\n",
    "    get_mae(X,y,model)\n",
    "    feature_columns.remove(feature)\n",
    "    print(\"Feature Removed: \" + feature)"
   ]
  },
  {
   "cell_type": "code",
   "execution_count": null,
   "id": "52516ce3",
   "metadata": {},
   "outputs": [],
   "source": [
    "feature_columns = [\"length_url\",\n",
    "                   \"directory_length\",\"qty_params\"]\n",
    "for feature in feature_columns:\n",
    "    X=clean_data[feature_columns]\n",
    "    model = NuSVC(kernel = 'linear',gamma = 'scale', shrinking = False)\n",
    "    get_mae(X,y,model)\n",
    "    feature_columns.remove(feature)\n",
    "    print(\"Feature Removed: \" + feature)"
   ]
  },
  {
   "cell_type": "code",
   "execution_count": null,
   "id": "1c728423",
   "metadata": {},
   "outputs": [],
   "source": [
    "#pickle.dump(model, open(\"url_model.pkl\",\"wb\"))"
   ]
  },
  {
   "cell_type": "code",
   "execution_count": null,
   "id": "cc85253b",
   "metadata": {},
   "outputs": [],
   "source": [
    "feature_columns = [\"qty_dot_url\"]\n",
    "feature_columns_long = [\"qty_hyphen_url\",\"qty_questionmark_url\",\"qty_and_url\",\"length_url\",\n",
    "                   \"domain_length\",\"qty_dot_directory\",\"directory_length\",\"file_length\",\"qty_params\",\"url_shortened\"]\n",
    "for feature in feature_columns_long:\n",
    "    X=clean_data[feature_columns]\n",
    "    model = NuSVC(kernel = 'linear',gamma = 'scale', shrinking = False)\n",
    "    get_mae(X,y,model)\n",
    "    feature_columns.append(feature_columns_long[0])\n",
    "    feature_columns_long.pop(0)\n",
    "    print(\"Feature Added: \" + feature)"
   ]
  },
  {
   "cell_type": "code",
   "execution_count": null,
   "id": "75992559",
   "metadata": {},
   "outputs": [],
   "source": [
    "feature_columns = [\"length_url\",\"qty_params\"]"
   ]
  },
  {
   "cell_type": "markdown",
   "id": "e9a69d26",
   "metadata": {},
   "source": [
    "These 3 features are all that is needed to train a model with a MAE of under 20% !\n",
    "These are the features I'll be focusing on."
   ]
  },
  {
   "cell_type": "code",
   "execution_count": null,
   "id": "ed3461ba",
   "metadata": {},
   "outputs": [],
   "source": [
    "new_df_columns = [\"length_url\",\n",
    "                   \"directory_length\",\"qty_params\", \"phishing\"]\n",
    "new_df = raw_data[new_df_columns]\n",
    "new_df.head(50)"
   ]
  },
  {
   "cell_type": "code",
   "execution_count": null,
   "id": "2f1fc5a6",
   "metadata": {},
   "outputs": [],
   "source": [
    "feature_columns = [\"length_url\",\"qty_params\"]\n",
    "X=clean_data[feature_columns]\n",
    "model = NuSVC(kernel = 'linear',gamma = 'scale', shrinking = False)\n",
    "get_mae(X,y,model)"
   ]
  },
  {
   "cell_type": "code",
   "execution_count": 53,
   "id": "02610bbd",
   "metadata": {},
   "outputs": [
    {
     "data": {
      "text/plain": [
       "0.8078024826081026"
      ]
     },
     "execution_count": 53,
     "metadata": {},
     "output_type": "execute_result"
    }
   ],
   "source": [
    "feature_columns = [\"qty_params\",\"qty_comma_url\"]\n",
    "X=clean_data[feature_columns]\n",
    "model = SVC(kernel = 'rbf',gamma = 'auto', shrinking = False, cache_size=1000)\n",
    "#get_mae(X,y,model)\n",
    "model.fit(train_X,train_y)\n",
    "model.score(val_X,val_y)"
   ]
  },
  {
   "cell_type": "markdown",
   "id": "21c8f690",
   "metadata": {},
   "source": [
    "Its even more accurate if we remove the length of the directory feature.\n",
    "So the web app needs to:\n",
    "- Parse the url\n",
    "- Identify the URL length\n",
    "- Identify the quantity of parameters\n",
    "- Plug those features into the model, hosted on a Flask app"
   ]
  },
  {
   "cell_type": "code",
   "execution_count": 62,
   "id": "9d82597b",
   "metadata": {},
   "outputs": [],
   "source": [
    "feature_columns = ['f1','f2','f3',\"length_url\",'f6']\n",
    "X = clean_copy[feature_columns]\n",
    "train_X, val_X, train_y, val_y = train_test_split(X,y, random_state=1)"
   ]
  },
  {
   "cell_type": "code",
   "execution_count": 65,
   "id": "9688baca",
   "metadata": {},
   "outputs": [],
   "source": [
    "#pipe = make_pipeline(StandardScaler(), SVC(kernel = 'rbf',gamma = 'scale', shrinking = True, cache_size=1000,class_weight='balanced'))\n",
    "model = SVC(kernel = 'rbf',gamma = 'auto', shrinking = True, cache_size=1000,class_weight='balanced')\n",
    "#pipe.fit(train_X,train_y)\n",
    "#pipe.score(val_X,val_y)\n",
    "model.fit(train_X,train_y)\n",
    "pickle.dump(model, open(\"(2)url_model_09_02.pkl\",\"wb\"))"
   ]
  },
  {
   "cell_type": "code",
   "execution_count": null,
   "id": "3ddd9c2f",
   "metadata": {},
   "outputs": [],
   "source": []
  }
 ],
 "metadata": {
  "kernelspec": {
   "display_name": "base",
   "language": "python",
   "name": "python3"
  },
  "language_info": {
   "codemirror_mode": {
    "name": "ipython",
    "version": 3
   },
   "file_extension": ".py",
   "mimetype": "text/x-python",
   "name": "python",
   "nbconvert_exporter": "python",
   "pygments_lexer": "ipython3",
   "version": "3.7.11"
  },
  "vscode": {
   "interpreter": {
    "hash": "4fefebc87d2ad4496659836ee213bdddecd5db7fad91f83e81c5081c70b1d249"
   }
  }
 },
 "nbformat": 4,
 "nbformat_minor": 5
}
